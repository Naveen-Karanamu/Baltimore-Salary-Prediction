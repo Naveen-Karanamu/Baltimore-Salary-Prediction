{
 "cells": [
  {
   "cell_type": "markdown",
   "metadata": {},
   "source": [
    "# Baltimor Salary Prediction"
   ]
  },
  {
   "cell_type": "markdown",
   "metadata": {},
   "source": [
    "To-Do : Dataset which captures the salary from July 1st, 2013 through June 30th, 2014. It includes only those employees who are employed on June 30, 2014. Predict the salary of Employees working in Baltimore"
   ]
  },
  {
   "cell_type": "markdown",
   "metadata": {},
   "source": [
    "* Libraries"
   ]
  },
  {
   "cell_type": "code",
   "execution_count": 119,
   "metadata": {},
   "outputs": [],
   "source": [
    "import pandas as pd\n",
    "import numpy as np\n",
    "import re\n",
    "import matplotlib.pyplot as plt\n",
    "import seaborn as sns\n",
    "from sklearn.preprocessing import StandardScaler\n",
    "from sklearn.svm import SVR\n",
    "from sklearn.metrics import r2_score, mean_absolute_error,mean_squared_error\n",
    " "
   ]
  },
  {
   "cell_type": "markdown",
   "metadata": {},
   "source": [
    "* Importing Dataset"
   ]
  },
  {
   "cell_type": "code",
   "execution_count": 120,
   "metadata": {},
   "outputs": [],
   "source": [
    "df=pd.read_csv('https://data.baltimorecity.gov/datasets/baltimore::baltimore-city-employee-salaries.csv')"
   ]
  },
  {
   "cell_type": "markdown",
   "metadata": {},
   "source": [
    "# Data Exploration\n"
   ]
  },
  {
   "cell_type": "code",
   "execution_count": 121,
   "metadata": {},
   "outputs": [
    {
     "data": {
      "text/html": [
       "<div>\n",
       "<style scoped>\n",
       "    .dataframe tbody tr th:only-of-type {\n",
       "        vertical-align: middle;\n",
       "    }\n",
       "\n",
       "    .dataframe tbody tr th {\n",
       "        vertical-align: top;\n",
       "    }\n",
       "\n",
       "    .dataframe thead th {\n",
       "        text-align: right;\n",
       "    }\n",
       "</style>\n",
       "<table border=\"1\" class=\"dataframe\">\n",
       "  <thead>\n",
       "    <tr style=\"text-align: right;\">\n",
       "      <th></th>\n",
       "      <th>lastName</th>\n",
       "      <th>middleInitial</th>\n",
       "      <th>firstName</th>\n",
       "      <th>jobClass</th>\n",
       "      <th>agencyName</th>\n",
       "      <th>agencyID</th>\n",
       "      <th>annualSalary</th>\n",
       "      <th>grossPay</th>\n",
       "      <th>hireDate</th>\n",
       "      <th>fiscalYear</th>\n",
       "      <th>ObjectId</th>\n",
       "    </tr>\n",
       "  </thead>\n",
       "  <tbody>\n",
       "    <tr>\n",
       "      <th>0</th>\n",
       "      <td>Aaron</td>\n",
       "      <td>D</td>\n",
       "      <td>Kareem</td>\n",
       "      <td>UTILITIES INST REPAIR II</td>\n",
       "      <td>Public Works - Water &amp; Waste Water</td>\n",
       "      <td>A50</td>\n",
       "      <td>34115.0</td>\n",
       "      <td>44557.99</td>\n",
       "      <td>2018-08-27</td>\n",
       "      <td>FY2021</td>\n",
       "      <td>1</td>\n",
       "    </tr>\n",
       "    <tr>\n",
       "      <th>1</th>\n",
       "      <td>Aaron</td>\n",
       "      <td>R</td>\n",
       "      <td>Lynda</td>\n",
       "      <td>ELECTION JUDGES REGULAR</td>\n",
       "      <td>D01</td>\n",
       "      <td>D01</td>\n",
       "      <td>0.0</td>\n",
       "      <td>185.00</td>\n",
       "      <td>2020-12-08</td>\n",
       "      <td>FY2021</td>\n",
       "      <td>2</td>\n",
       "    </tr>\n",
       "    <tr>\n",
       "      <th>2</th>\n",
       "      <td>Aaron</td>\n",
       "      <td>G</td>\n",
       "      <td>Patricia</td>\n",
       "      <td>FACILITIES/OFFICE SERVICES II</td>\n",
       "      <td>Mayor's Office of Employment Development</td>\n",
       "      <td>A03</td>\n",
       "      <td>63457.0</td>\n",
       "      <td>29461.96</td>\n",
       "      <td>1979-10-24</td>\n",
       "      <td>FY2021</td>\n",
       "      <td>3</td>\n",
       "    </tr>\n",
       "    <tr>\n",
       "      <th>3</th>\n",
       "      <td>Abadir</td>\n",
       "      <td>O</td>\n",
       "      <td>Adam</td>\n",
       "      <td>OPERATIONS OFFICER II</td>\n",
       "      <td>Health Department</td>\n",
       "      <td>A65</td>\n",
       "      <td>74299.0</td>\n",
       "      <td>85450.35</td>\n",
       "      <td>2016-12-12</td>\n",
       "      <td>FY2021</td>\n",
       "      <td>4</td>\n",
       "    </tr>\n",
       "    <tr>\n",
       "      <th>4</th>\n",
       "      <td>Abaku</td>\n",
       "      <td>O</td>\n",
       "      <td>Aigbolosimuan</td>\n",
       "      <td>POLICE OFFICER EID</td>\n",
       "      <td>Police Department</td>\n",
       "      <td>A99</td>\n",
       "      <td>68226.0</td>\n",
       "      <td>102775.97</td>\n",
       "      <td>2018-04-17</td>\n",
       "      <td>FY2021</td>\n",
       "      <td>5</td>\n",
       "    </tr>\n",
       "  </tbody>\n",
       "</table>\n",
       "</div>"
      ],
      "text/plain": [
       "  lastName middleInitial      firstName                       jobClass  \\\n",
       "0    Aaron             D         Kareem       UTILITIES INST REPAIR II   \n",
       "1    Aaron             R          Lynda        ELECTION JUDGES REGULAR   \n",
       "2    Aaron             G       Patricia  FACILITIES/OFFICE SERVICES II   \n",
       "3   Abadir             O           Adam          OPERATIONS OFFICER II   \n",
       "4    Abaku             O  Aigbolosimuan             POLICE OFFICER EID   \n",
       "\n",
       "                                 agencyName agencyID  annualSalary   grossPay  \\\n",
       "0        Public Works - Water & Waste Water      A50       34115.0   44557.99   \n",
       "1                                       D01      D01           0.0     185.00   \n",
       "2  Mayor's Office of Employment Development      A03       63457.0   29461.96   \n",
       "3                         Health Department      A65       74299.0   85450.35   \n",
       "4                         Police Department      A99       68226.0  102775.97   \n",
       "\n",
       "     hireDate fiscalYear  ObjectId  \n",
       "0  2018-08-27     FY2021         1  \n",
       "1  2020-12-08     FY2021         2  \n",
       "2  1979-10-24     FY2021         3  \n",
       "3  2016-12-12     FY2021         4  \n",
       "4  2018-04-17     FY2021         5  "
      ]
     },
     "execution_count": 121,
     "metadata": {},
     "output_type": "execute_result"
    }
   ],
   "source": [
    "df.head()"
   ]
  },
  {
   "cell_type": "markdown",
   "metadata": {},
   "source": [
    "* Getting column names"
   ]
  },
  {
   "cell_type": "code",
   "execution_count": 122,
   "metadata": {},
   "outputs": [
    {
     "data": {
      "text/plain": [
       "Index(['lastName', 'middleInitial', 'firstName', 'jobClass', 'agencyName',\n",
       "       'agencyID', 'annualSalary', 'grossPay', 'hireDate', 'fiscalYear',\n",
       "       'ObjectId'],\n",
       "      dtype='object')"
      ]
     },
     "execution_count": 122,
     "metadata": {},
     "output_type": "execute_result"
    }
   ],
   "source": [
    "df.columns"
   ]
  },
  {
   "cell_type": "markdown",
   "metadata": {},
   "source": [
    "* Checking the dypes"
   ]
  },
  {
   "cell_type": "code",
   "execution_count": 123,
   "metadata": {},
   "outputs": [
    {
     "data": {
      "text/plain": [
       "lastName          object\n",
       "middleInitial     object\n",
       "firstName         object\n",
       "jobClass          object\n",
       "agencyName        object\n",
       "agencyID          object\n",
       "annualSalary     float64\n",
       "grossPay         float64\n",
       "hireDate          object\n",
       "fiscalYear        object\n",
       "ObjectId           int64\n",
       "dtype: object"
      ]
     },
     "execution_count": 123,
     "metadata": {},
     "output_type": "execute_result"
    }
   ],
   "source": [
    "df.dtypes"
   ]
  },
  {
   "cell_type": "markdown",
   "metadata": {},
   "source": [
    "* Getting basic information"
   ]
  },
  {
   "cell_type": "code",
   "execution_count": 124,
   "metadata": {},
   "outputs": [
    {
     "name": "stdout",
     "output_type": "stream",
     "text": [
      "<class 'pandas.core.frame.DataFrame'>\n",
      "RangeIndex: 154187 entries, 0 to 154186\n",
      "Data columns (total 11 columns):\n",
      " #   Column         Non-Null Count   Dtype  \n",
      "---  ------         --------------   -----  \n",
      " 0   lastName       153777 non-null  object \n",
      " 1   middleInitial  121195 non-null  object \n",
      " 2   firstName      154187 non-null  object \n",
      " 3   jobClass       154003 non-null  object \n",
      " 4   agencyName     154187 non-null  object \n",
      " 5   agencyID       154187 non-null  object \n",
      " 6   annualSalary   154187 non-null  float64\n",
      " 7   grossPay       154187 non-null  float64\n",
      " 8   hireDate       154185 non-null  object \n",
      " 9   fiscalYear     154187 non-null  object \n",
      " 10  ObjectId       154187 non-null  int64  \n",
      "dtypes: float64(2), int64(1), object(8)\n",
      "memory usage: 12.9+ MB\n"
     ]
    }
   ],
   "source": [
    "df.info()"
   ]
  },
  {
   "cell_type": "markdown",
   "metadata": {},
   "source": [
    "* Counting the number of datapoints in each column"
   ]
  },
  {
   "cell_type": "code",
   "execution_count": 125,
   "metadata": {},
   "outputs": [
    {
     "data": {
      "text/plain": [
       "lastName         153777\n",
       "middleInitial    121195\n",
       "firstName        154187\n",
       "jobClass         154003\n",
       "agencyName       154187\n",
       "agencyID         154187\n",
       "annualSalary     154187\n",
       "grossPay         154187\n",
       "hireDate         154185\n",
       "fiscalYear       154187\n",
       "ObjectId         154187\n",
       "dtype: int64"
      ]
     },
     "execution_count": 125,
     "metadata": {},
     "output_type": "execute_result"
    }
   ],
   "source": [
    "df.count()"
   ]
  },
  {
   "cell_type": "markdown",
   "metadata": {},
   "source": [
    "* Getting the statistical information"
   ]
  },
  {
   "cell_type": "code",
   "execution_count": 126,
   "metadata": {},
   "outputs": [
    {
     "data": {
      "text/html": [
       "<div>\n",
       "<style scoped>\n",
       "    .dataframe tbody tr th:only-of-type {\n",
       "        vertical-align: middle;\n",
       "    }\n",
       "\n",
       "    .dataframe tbody tr th {\n",
       "        vertical-align: top;\n",
       "    }\n",
       "\n",
       "    .dataframe thead th {\n",
       "        text-align: right;\n",
       "    }\n",
       "</style>\n",
       "<table border=\"1\" class=\"dataframe\">\n",
       "  <thead>\n",
       "    <tr style=\"text-align: right;\">\n",
       "      <th></th>\n",
       "      <th>annualSalary</th>\n",
       "      <th>grossPay</th>\n",
       "      <th>ObjectId</th>\n",
       "    </tr>\n",
       "  </thead>\n",
       "  <tbody>\n",
       "    <tr>\n",
       "      <th>count</th>\n",
       "      <td>154187.000000</td>\n",
       "      <td>154187.000000</td>\n",
       "      <td>154187.000000</td>\n",
       "    </tr>\n",
       "    <tr>\n",
       "      <th>mean</th>\n",
       "      <td>52873.341579</td>\n",
       "      <td>55266.226727</td>\n",
       "      <td>77094.000000</td>\n",
       "    </tr>\n",
       "    <tr>\n",
       "      <th>std</th>\n",
       "      <td>25066.781786</td>\n",
       "      <td>33516.800966</td>\n",
       "      <td>44510.097315</td>\n",
       "    </tr>\n",
       "    <tr>\n",
       "      <th>min</th>\n",
       "      <td>0.000000</td>\n",
       "      <td>1.710000</td>\n",
       "      <td>1.000000</td>\n",
       "    </tr>\n",
       "    <tr>\n",
       "      <th>25%</th>\n",
       "      <td>34518.000000</td>\n",
       "      <td>33404.750000</td>\n",
       "      <td>38547.500000</td>\n",
       "    </tr>\n",
       "    <tr>\n",
       "      <th>50%</th>\n",
       "      <td>50238.000000</td>\n",
       "      <td>52070.440000</td>\n",
       "      <td>77094.000000</td>\n",
       "    </tr>\n",
       "    <tr>\n",
       "      <th>75%</th>\n",
       "      <td>68487.000000</td>\n",
       "      <td>74476.905000</td>\n",
       "      <td>115640.500000</td>\n",
       "    </tr>\n",
       "    <tr>\n",
       "      <th>max</th>\n",
       "      <td>276375.000000</td>\n",
       "      <td>373111.190000</td>\n",
       "      <td>154187.000000</td>\n",
       "    </tr>\n",
       "  </tbody>\n",
       "</table>\n",
       "</div>"
      ],
      "text/plain": [
       "        annualSalary       grossPay       ObjectId\n",
       "count  154187.000000  154187.000000  154187.000000\n",
       "mean    52873.341579   55266.226727   77094.000000\n",
       "std     25066.781786   33516.800966   44510.097315\n",
       "min         0.000000       1.710000       1.000000\n",
       "25%     34518.000000   33404.750000   38547.500000\n",
       "50%     50238.000000   52070.440000   77094.000000\n",
       "75%     68487.000000   74476.905000  115640.500000\n",
       "max    276375.000000  373111.190000  154187.000000"
      ]
     },
     "execution_count": 126,
     "metadata": {},
     "output_type": "execute_result"
    }
   ],
   "source": [
    "df.describe()"
   ]
  },
  {
   "cell_type": "markdown",
   "metadata": {},
   "source": [
    "* Checking the shape"
   ]
  },
  {
   "cell_type": "code",
   "execution_count": 127,
   "metadata": {},
   "outputs": [
    {
     "data": {
      "text/plain": [
       "(154187, 11)"
      ]
     },
     "execution_count": 127,
     "metadata": {},
     "output_type": "execute_result"
    }
   ],
   "source": [
    "df.shape"
   ]
  },
  {
   "cell_type": "code",
   "execution_count": 128,
   "metadata": {},
   "outputs": [
    {
     "data": {
      "text/html": [
       "<div>\n",
       "<style scoped>\n",
       "    .dataframe tbody tr th:only-of-type {\n",
       "        vertical-align: middle;\n",
       "    }\n",
       "\n",
       "    .dataframe tbody tr th {\n",
       "        vertical-align: top;\n",
       "    }\n",
       "\n",
       "    .dataframe thead th {\n",
       "        text-align: right;\n",
       "    }\n",
       "</style>\n",
       "<table border=\"1\" class=\"dataframe\">\n",
       "  <thead>\n",
       "    <tr style=\"text-align: right;\">\n",
       "      <th></th>\n",
       "      <th>lastName</th>\n",
       "      <th>middleInitial</th>\n",
       "      <th>firstName</th>\n",
       "      <th>jobClass</th>\n",
       "      <th>agencyName</th>\n",
       "      <th>agencyID</th>\n",
       "      <th>annualSalary</th>\n",
       "      <th>grossPay</th>\n",
       "      <th>hireDate</th>\n",
       "      <th>fiscalYear</th>\n",
       "      <th>ObjectId</th>\n",
       "    </tr>\n",
       "  </thead>\n",
       "  <tbody>\n",
       "    <tr>\n",
       "      <th>154182</th>\n",
       "      <td>NaN</td>\n",
       "      <td>9</td>\n",
       "      <td>BPD</td>\n",
       "      <td>BPD</td>\n",
       "      <td>Police Department</td>\n",
       "      <td>A99</td>\n",
       "      <td>65499.0</td>\n",
       "      <td>64127.83</td>\n",
       "      <td>1970-01-01</td>\n",
       "      <td>FY2011</td>\n",
       "      <td>154183</td>\n",
       "    </tr>\n",
       "    <tr>\n",
       "      <th>154183</th>\n",
       "      <td>NaN</td>\n",
       "      <td>0</td>\n",
       "      <td>BPD</td>\n",
       "      <td>BPD</td>\n",
       "      <td>Police Department</td>\n",
       "      <td>A99</td>\n",
       "      <td>63384.0</td>\n",
       "      <td>66187.45</td>\n",
       "      <td>1970-01-01</td>\n",
       "      <td>FY2011</td>\n",
       "      <td>154184</td>\n",
       "    </tr>\n",
       "    <tr>\n",
       "      <th>154184</th>\n",
       "      <td>NaN</td>\n",
       "      <td>1</td>\n",
       "      <td>BPD</td>\n",
       "      <td>BPD</td>\n",
       "      <td>Police Department</td>\n",
       "      <td>A99</td>\n",
       "      <td>61102.0</td>\n",
       "      <td>71989.51</td>\n",
       "      <td>1970-01-01</td>\n",
       "      <td>FY2011</td>\n",
       "      <td>154185</td>\n",
       "    </tr>\n",
       "    <tr>\n",
       "      <th>154185</th>\n",
       "      <td>NaN</td>\n",
       "      <td>2</td>\n",
       "      <td>BPD</td>\n",
       "      <td>BPD</td>\n",
       "      <td>Police Department</td>\n",
       "      <td>A99</td>\n",
       "      <td>59958.0</td>\n",
       "      <td>53235.59</td>\n",
       "      <td>1970-01-01</td>\n",
       "      <td>FY2011</td>\n",
       "      <td>154186</td>\n",
       "    </tr>\n",
       "    <tr>\n",
       "      <th>154186</th>\n",
       "      <td>NaN</td>\n",
       "      <td>3</td>\n",
       "      <td>BPD</td>\n",
       "      <td>BPD</td>\n",
       "      <td>Police Department</td>\n",
       "      <td>A99</td>\n",
       "      <td>68523.0</td>\n",
       "      <td>95152.89</td>\n",
       "      <td>1970-01-01</td>\n",
       "      <td>FY2011</td>\n",
       "      <td>154187</td>\n",
       "    </tr>\n",
       "  </tbody>\n",
       "</table>\n",
       "</div>"
      ],
      "text/plain": [
       "       lastName middleInitial firstName jobClass         agencyName agencyID  \\\n",
       "154182      NaN             9       BPD      BPD  Police Department      A99   \n",
       "154183      NaN             0       BPD      BPD  Police Department      A99   \n",
       "154184      NaN             1       BPD      BPD  Police Department      A99   \n",
       "154185      NaN             2       BPD      BPD  Police Department      A99   \n",
       "154186      NaN             3       BPD      BPD  Police Department      A99   \n",
       "\n",
       "        annualSalary  grossPay    hireDate fiscalYear  ObjectId  \n",
       "154182       65499.0  64127.83  1970-01-01     FY2011    154183  \n",
       "154183       63384.0  66187.45  1970-01-01     FY2011    154184  \n",
       "154184       61102.0  71989.51  1970-01-01     FY2011    154185  \n",
       "154185       59958.0  53235.59  1970-01-01     FY2011    154186  \n",
       "154186       68523.0  95152.89  1970-01-01     FY2011    154187  "
      ]
     },
     "execution_count": 128,
     "metadata": {},
     "output_type": "execute_result"
    }
   ],
   "source": [
    "df.tail()"
   ]
  },
  {
   "cell_type": "markdown",
   "metadata": {},
   "source": [
    "* Creating the copy of the dataframe"
   ]
  },
  {
   "cell_type": "code",
   "execution_count": 129,
   "metadata": {},
   "outputs": [],
   "source": [
    "newdf=df.copy()"
   ]
  },
  {
   "cell_type": "markdown",
   "metadata": {},
   "source": [
    "* Modifying the column names to the lowercase"
   ]
  },
  {
   "cell_type": "code",
   "execution_count": 130,
   "metadata": {},
   "outputs": [],
   "source": [
    "newdf.columns=newdf.columns.str.strip().str.lower()"
   ]
  },
  {
   "cell_type": "code",
   "execution_count": 131,
   "metadata": {},
   "outputs": [
    {
     "data": {
      "text/html": [
       "<div>\n",
       "<style scoped>\n",
       "    .dataframe tbody tr th:only-of-type {\n",
       "        vertical-align: middle;\n",
       "    }\n",
       "\n",
       "    .dataframe tbody tr th {\n",
       "        vertical-align: top;\n",
       "    }\n",
       "\n",
       "    .dataframe thead th {\n",
       "        text-align: right;\n",
       "    }\n",
       "</style>\n",
       "<table border=\"1\" class=\"dataframe\">\n",
       "  <thead>\n",
       "    <tr style=\"text-align: right;\">\n",
       "      <th></th>\n",
       "      <th>lastname</th>\n",
       "      <th>middleinitial</th>\n",
       "      <th>firstname</th>\n",
       "      <th>jobclass</th>\n",
       "      <th>agencyname</th>\n",
       "      <th>agencyid</th>\n",
       "      <th>annualsalary</th>\n",
       "      <th>grosspay</th>\n",
       "      <th>hiredate</th>\n",
       "      <th>fiscalyear</th>\n",
       "      <th>objectid</th>\n",
       "    </tr>\n",
       "  </thead>\n",
       "  <tbody>\n",
       "    <tr>\n",
       "      <th>0</th>\n",
       "      <td>Aaron</td>\n",
       "      <td>D</td>\n",
       "      <td>Kareem</td>\n",
       "      <td>UTILITIES INST REPAIR II</td>\n",
       "      <td>Public Works - Water &amp; Waste Water</td>\n",
       "      <td>A50</td>\n",
       "      <td>34115.0</td>\n",
       "      <td>44557.99</td>\n",
       "      <td>2018-08-27</td>\n",
       "      <td>FY2021</td>\n",
       "      <td>1</td>\n",
       "    </tr>\n",
       "    <tr>\n",
       "      <th>1</th>\n",
       "      <td>Aaron</td>\n",
       "      <td>R</td>\n",
       "      <td>Lynda</td>\n",
       "      <td>ELECTION JUDGES REGULAR</td>\n",
       "      <td>D01</td>\n",
       "      <td>D01</td>\n",
       "      <td>0.0</td>\n",
       "      <td>185.00</td>\n",
       "      <td>2020-12-08</td>\n",
       "      <td>FY2021</td>\n",
       "      <td>2</td>\n",
       "    </tr>\n",
       "    <tr>\n",
       "      <th>2</th>\n",
       "      <td>Aaron</td>\n",
       "      <td>G</td>\n",
       "      <td>Patricia</td>\n",
       "      <td>FACILITIES/OFFICE SERVICES II</td>\n",
       "      <td>Mayor's Office of Employment Development</td>\n",
       "      <td>A03</td>\n",
       "      <td>63457.0</td>\n",
       "      <td>29461.96</td>\n",
       "      <td>1979-10-24</td>\n",
       "      <td>FY2021</td>\n",
       "      <td>3</td>\n",
       "    </tr>\n",
       "    <tr>\n",
       "      <th>3</th>\n",
       "      <td>Abadir</td>\n",
       "      <td>O</td>\n",
       "      <td>Adam</td>\n",
       "      <td>OPERATIONS OFFICER II</td>\n",
       "      <td>Health Department</td>\n",
       "      <td>A65</td>\n",
       "      <td>74299.0</td>\n",
       "      <td>85450.35</td>\n",
       "      <td>2016-12-12</td>\n",
       "      <td>FY2021</td>\n",
       "      <td>4</td>\n",
       "    </tr>\n",
       "    <tr>\n",
       "      <th>4</th>\n",
       "      <td>Abaku</td>\n",
       "      <td>O</td>\n",
       "      <td>Aigbolosimuan</td>\n",
       "      <td>POLICE OFFICER EID</td>\n",
       "      <td>Police Department</td>\n",
       "      <td>A99</td>\n",
       "      <td>68226.0</td>\n",
       "      <td>102775.97</td>\n",
       "      <td>2018-04-17</td>\n",
       "      <td>FY2021</td>\n",
       "      <td>5</td>\n",
       "    </tr>\n",
       "  </tbody>\n",
       "</table>\n",
       "</div>"
      ],
      "text/plain": [
       "  lastname middleinitial      firstname                       jobclass  \\\n",
       "0    Aaron             D         Kareem       UTILITIES INST REPAIR II   \n",
       "1    Aaron             R          Lynda        ELECTION JUDGES REGULAR   \n",
       "2    Aaron             G       Patricia  FACILITIES/OFFICE SERVICES II   \n",
       "3   Abadir             O           Adam          OPERATIONS OFFICER II   \n",
       "4    Abaku             O  Aigbolosimuan             POLICE OFFICER EID   \n",
       "\n",
       "                                 agencyname agencyid  annualsalary   grosspay  \\\n",
       "0        Public Works - Water & Waste Water      A50       34115.0   44557.99   \n",
       "1                                       D01      D01           0.0     185.00   \n",
       "2  Mayor's Office of Employment Development      A03       63457.0   29461.96   \n",
       "3                         Health Department      A65       74299.0   85450.35   \n",
       "4                         Police Department      A99       68226.0  102775.97   \n",
       "\n",
       "     hiredate fiscalyear  objectid  \n",
       "0  2018-08-27     FY2021         1  \n",
       "1  2020-12-08     FY2021         2  \n",
       "2  1979-10-24     FY2021         3  \n",
       "3  2016-12-12     FY2021         4  \n",
       "4  2018-04-17     FY2021         5  "
      ]
     },
     "execution_count": 131,
     "metadata": {},
     "output_type": "execute_result"
    }
   ],
   "source": [
    "newdf.head()"
   ]
  },
  {
   "cell_type": "markdown",
   "metadata": {},
   "source": [
    "* Checking the number of null values"
   ]
  },
  {
   "cell_type": "code",
   "execution_count": 132,
   "metadata": {},
   "outputs": [
    {
     "data": {
      "text/plain": [
       "lastname           410\n",
       "middleinitial    32992\n",
       "firstname            0\n",
       "jobclass           184\n",
       "agencyname           0\n",
       "agencyid             0\n",
       "annualsalary         0\n",
       "grosspay             0\n",
       "hiredate             2\n",
       "fiscalyear           0\n",
       "objectid             0\n",
       "dtype: int64"
      ]
     },
     "execution_count": 132,
     "metadata": {},
     "output_type": "execute_result"
    }
   ],
   "source": [
    "newdf.isnull().sum()"
   ]
  },
  {
   "cell_type": "markdown",
   "metadata": {},
   "source": [
    "* Dropping the grosspay column"
   ]
  },
  {
   "cell_type": "code",
   "execution_count": 133,
   "metadata": {},
   "outputs": [],
   "source": [
    "newdf.drop('grosspay',axis=1,inplace=True)"
   ]
  },
  {
   "cell_type": "code",
   "execution_count": 134,
   "metadata": {},
   "outputs": [
    {
     "data": {
      "text/plain": [
       "Index(['lastname', 'middleinitial', 'firstname', 'jobclass', 'agencyname',\n",
       "       'agencyid', 'annualsalary', 'hiredate', 'fiscalyear', 'objectid'],\n",
       "      dtype='object')"
      ]
     },
     "execution_count": 134,
     "metadata": {},
     "output_type": "execute_result"
    }
   ],
   "source": [
    "newdf.columns"
   ]
  },
  {
   "cell_type": "markdown",
   "metadata": {},
   "source": [
    "* Duplicated of the Agency Id"
   ]
  },
  {
   "cell_type": "code",
   "execution_count": 135,
   "metadata": {},
   "outputs": [
    {
     "data": {
      "text/plain": [
       "A99    34706\n",
       "A64    18374\n",
       "A50    16353\n",
       "A65     9640\n",
       "A49     7007\n",
       "       ...  \n",
       "A28        3\n",
       "P65        3\n",
       "A53        2\n",
       "U01        1\n",
       "A9         1\n",
       "Name: agencyid, Length: 71, dtype: int64"
      ]
     },
     "execution_count": 135,
     "metadata": {},
     "output_type": "execute_result"
    }
   ],
   "source": [
    "newdf.agencyid.value_counts()"
   ]
  },
  {
   "cell_type": "markdown",
   "metadata": {},
   "source": [
    "* Getting the Agencynames associated with the agencyid"
   ]
  },
  {
   "cell_type": "code",
   "execution_count": 136,
   "metadata": {},
   "outputs": [
    {
     "data": {
      "text/plain": [
       "A99                   State's Attorney's Office\n",
       "A64                                         D01\n",
       "A50                           Health Department\n",
       "A65                                       MOCFS\n",
       "A49                             Fire Department\n",
       "                         ...                   \n",
       "A28                           Health Department\n",
       "P65                           Health Department\n",
       "A53    Mayor's Office of Employment Development\n",
       "U01                                         D01\n",
       "A9                                          D01\n",
       "Name: agencyid, Length: 71, dtype: object"
      ]
     },
     "execution_count": 136,
     "metadata": {},
     "output_type": "execute_result"
    }
   ],
   "source": [
    "newdf.agencyid.value_counts().map(newdf.agencyname)"
   ]
  },
  {
   "cell_type": "markdown",
   "metadata": {},
   "source": [
    "* Calculating the count of each job"
   ]
  },
  {
   "cell_type": "code",
   "execution_count": 137,
   "metadata": {},
   "outputs": [
    {
     "data": {
      "text/plain": [
       "POLICE OFFICER                    18958\n",
       "CROSSING GUARD                     3546\n",
       "LABORER (HOURLY)                   3388\n",
       "EMT FIREFIGHTER SUPPRESSION        2876\n",
       "COMMUNITY AIDE                     2865\n",
       "                                  ...  \n",
       "QUALITY ASSURANCE ANALYST SUPE        1\n",
       "FIRE LT. INVES & PRE SERV, ALS        1\n",
       "CUSTOMER CARE ANALYST SUP II          1\n",
       "SPECIAL ASSIST. TO THE STATE'S        1\n",
       "COURT REPORTER                        1\n",
       "Name: jobclass, Length: 1897, dtype: int64"
      ]
     },
     "execution_count": 137,
     "metadata": {},
     "output_type": "execute_result"
    }
   ],
   "source": [
    "newdf.jobclass.value_counts()"
   ]
  },
  {
   "cell_type": "markdown",
   "metadata": {},
   "source": [
    "* Getting the annualsalary counts in desc"
   ]
  },
  {
   "cell_type": "code",
   "execution_count": 138,
   "metadata": {},
   "outputs": [
    {
     "data": {
      "text/plain": [
       "0.0        1958\n",
       "20800.0    1447\n",
       "24960.0    1212\n",
       "22880.0    1030\n",
       "15080.0     847\n",
       "           ... \n",
       "89126.0       1\n",
       "84708.0       1\n",
       "82895.0       1\n",
       "58337.0       1\n",
       "48006.0       1\n",
       "Name: annualsalary, Length: 13321, dtype: int64"
      ]
     },
     "execution_count": 138,
     "metadata": {},
     "output_type": "execute_result"
    }
   ],
   "source": [
    "newdf.annualsalary.value_counts()"
   ]
  },
  {
   "cell_type": "markdown",
   "metadata": {},
   "source": [
    "* Converting the dtype of the annualsalary column"
   ]
  },
  {
   "cell_type": "code",
   "execution_count": 139,
   "metadata": {},
   "outputs": [
    {
     "data": {
      "text/plain": [
       "0         34115\n",
       "1             0\n",
       "2         63457\n",
       "3         74299\n",
       "4         68226\n",
       "          ...  \n",
       "154182    65499\n",
       "154183    63384\n",
       "154184    61102\n",
       "154185    59958\n",
       "154186    68523\n",
       "Name: annualsalary, Length: 154187, dtype: int32"
      ]
     },
     "execution_count": 139,
     "metadata": {},
     "output_type": "execute_result"
    }
   ],
   "source": [
    "newdf.annualsalary.astype(int)"
   ]
  },
  {
   "cell_type": "code",
   "execution_count": 140,
   "metadata": {},
   "outputs": [
    {
     "name": "stdout",
     "output_type": "stream",
     "text": [
      "<class 'pandas.core.frame.DataFrame'>\n",
      "RangeIndex: 154187 entries, 0 to 154186\n",
      "Data columns (total 10 columns):\n",
      " #   Column         Non-Null Count   Dtype  \n",
      "---  ------         --------------   -----  \n",
      " 0   lastname       153777 non-null  object \n",
      " 1   middleinitial  121195 non-null  object \n",
      " 2   firstname      154187 non-null  object \n",
      " 3   jobclass       154003 non-null  object \n",
      " 4   agencyname     154187 non-null  object \n",
      " 5   agencyid       154187 non-null  object \n",
      " 6   annualsalary   154187 non-null  float64\n",
      " 7   hiredate       154185 non-null  object \n",
      " 8   fiscalyear     154187 non-null  object \n",
      " 9   objectid       154187 non-null  int64  \n",
      "dtypes: float64(1), int64(1), object(8)\n",
      "memory usage: 11.8+ MB\n"
     ]
    }
   ],
   "source": [
    "newdf.info()"
   ]
  },
  {
   "cell_type": "markdown",
   "metadata": {},
   "source": [
    "* Cleaning the hiredate column"
   ]
  },
  {
   "cell_type": "code",
   "execution_count": 141,
   "metadata": {},
   "outputs": [
    {
     "data": {
      "text/html": [
       "<div>\n",
       "<style scoped>\n",
       "    .dataframe tbody tr th:only-of-type {\n",
       "        vertical-align: middle;\n",
       "    }\n",
       "\n",
       "    .dataframe tbody tr th {\n",
       "        vertical-align: top;\n",
       "    }\n",
       "\n",
       "    .dataframe thead th {\n",
       "        text-align: right;\n",
       "    }\n",
       "</style>\n",
       "<table border=\"1\" class=\"dataframe\">\n",
       "  <thead>\n",
       "    <tr style=\"text-align: right;\">\n",
       "      <th></th>\n",
       "      <th>lastname</th>\n",
       "      <th>middleinitial</th>\n",
       "      <th>firstname</th>\n",
       "      <th>jobclass</th>\n",
       "      <th>agencyname</th>\n",
       "      <th>agencyid</th>\n",
       "      <th>annualsalary</th>\n",
       "      <th>hiredate</th>\n",
       "      <th>fiscalyear</th>\n",
       "      <th>objectid</th>\n",
       "    </tr>\n",
       "  </thead>\n",
       "  <tbody>\n",
       "    <tr>\n",
       "      <th>0</th>\n",
       "      <td>Aaron</td>\n",
       "      <td>D</td>\n",
       "      <td>Kareem</td>\n",
       "      <td>UTILITIES INST REPAIR II</td>\n",
       "      <td>Public Works - Water &amp; Waste Water</td>\n",
       "      <td>A50</td>\n",
       "      <td>34115.0</td>\n",
       "      <td>2018-08-27</td>\n",
       "      <td>FY2021</td>\n",
       "      <td>1</td>\n",
       "    </tr>\n",
       "    <tr>\n",
       "      <th>1</th>\n",
       "      <td>Aaron</td>\n",
       "      <td>R</td>\n",
       "      <td>Lynda</td>\n",
       "      <td>ELECTION JUDGES REGULAR</td>\n",
       "      <td>D01</td>\n",
       "      <td>D01</td>\n",
       "      <td>0.0</td>\n",
       "      <td>2020-12-08</td>\n",
       "      <td>FY2021</td>\n",
       "      <td>2</td>\n",
       "    </tr>\n",
       "    <tr>\n",
       "      <th>2</th>\n",
       "      <td>Aaron</td>\n",
       "      <td>G</td>\n",
       "      <td>Patricia</td>\n",
       "      <td>FACILITIES/OFFICE SERVICES II</td>\n",
       "      <td>Mayor's Office of Employment Development</td>\n",
       "      <td>A03</td>\n",
       "      <td>63457.0</td>\n",
       "      <td>1979-10-24</td>\n",
       "      <td>FY2021</td>\n",
       "      <td>3</td>\n",
       "    </tr>\n",
       "    <tr>\n",
       "      <th>3</th>\n",
       "      <td>Abadir</td>\n",
       "      <td>O</td>\n",
       "      <td>Adam</td>\n",
       "      <td>OPERATIONS OFFICER II</td>\n",
       "      <td>Health Department</td>\n",
       "      <td>A65</td>\n",
       "      <td>74299.0</td>\n",
       "      <td>2016-12-12</td>\n",
       "      <td>FY2021</td>\n",
       "      <td>4</td>\n",
       "    </tr>\n",
       "    <tr>\n",
       "      <th>4</th>\n",
       "      <td>Abaku</td>\n",
       "      <td>O</td>\n",
       "      <td>Aigbolosimuan</td>\n",
       "      <td>POLICE OFFICER EID</td>\n",
       "      <td>Police Department</td>\n",
       "      <td>A99</td>\n",
       "      <td>68226.0</td>\n",
       "      <td>2018-04-17</td>\n",
       "      <td>FY2021</td>\n",
       "      <td>5</td>\n",
       "    </tr>\n",
       "  </tbody>\n",
       "</table>\n",
       "</div>"
      ],
      "text/plain": [
       "  lastname middleinitial      firstname                       jobclass  \\\n",
       "0    Aaron             D         Kareem       UTILITIES INST REPAIR II   \n",
       "1    Aaron             R          Lynda        ELECTION JUDGES REGULAR   \n",
       "2    Aaron             G       Patricia  FACILITIES/OFFICE SERVICES II   \n",
       "3   Abadir             O           Adam          OPERATIONS OFFICER II   \n",
       "4    Abaku             O  Aigbolosimuan             POLICE OFFICER EID   \n",
       "\n",
       "                                 agencyname agencyid  annualsalary  \\\n",
       "0        Public Works - Water & Waste Water      A50       34115.0   \n",
       "1                                       D01      D01           0.0   \n",
       "2  Mayor's Office of Employment Development      A03       63457.0   \n",
       "3                         Health Department      A65       74299.0   \n",
       "4                         Police Department      A99       68226.0   \n",
       "\n",
       "     hiredate fiscalyear  objectid  \n",
       "0  2018-08-27     FY2021         1  \n",
       "1  2020-12-08     FY2021         2  \n",
       "2  1979-10-24     FY2021         3  \n",
       "3  2016-12-12     FY2021         4  \n",
       "4  2018-04-17     FY2021         5  "
      ]
     },
     "execution_count": 141,
     "metadata": {},
     "output_type": "execute_result"
    }
   ],
   "source": [
    "newdf.head()"
   ]
  },
  {
   "cell_type": "code",
   "execution_count": 142,
   "metadata": {},
   "outputs": [
    {
     "data": {
      "text/plain": [
       "'2018-08-27'"
      ]
     },
     "execution_count": 142,
     "metadata": {},
     "output_type": "execute_result"
    }
   ],
   "source": [
    "newdf.hiredate[0]"
   ]
  },
  {
   "cell_type": "markdown",
   "metadata": {},
   "source": [
    "* Cleaning Date"
   ]
  },
  {
   "cell_type": "code",
   "execution_count": 143,
   "metadata": {},
   "outputs": [
    {
     "data": {
      "text/plain": [
       "'27'"
      ]
     },
     "execution_count": 143,
     "metadata": {},
     "output_type": "execute_result"
    }
   ],
   "source": [
    "date_clean=re.sub(\"^\\d{4}.*-\",\"\",newdf.hiredate[0])\n",
    "date_clean"
   ]
  },
  {
   "cell_type": "markdown",
   "metadata": {},
   "source": [
    "* Cleaning month"
   ]
  },
  {
   "cell_type": "code",
   "execution_count": 191,
   "metadata": {},
   "outputs": [
    {
     "data": {
      "text/plain": [
       "'07'"
      ]
     },
     "execution_count": 191,
     "metadata": {},
     "output_type": "execute_result"
    }
   ],
   "source": [
    "month_clean=re.sub(\"^\\d{4}-|-\\d{2}\",\"\",newdf.hiredate[10])\n",
    "month_clean"
   ]
  },
  {
   "cell_type": "markdown",
   "metadata": {},
   "source": [
    "* Cleaning Year"
   ]
  },
  {
   "cell_type": "code",
   "execution_count": 145,
   "metadata": {},
   "outputs": [
    {
     "data": {
      "text/plain": [
       "'1970'"
      ]
     },
     "execution_count": 145,
     "metadata": {},
     "output_type": "execute_result"
    }
   ],
   "source": [
    "year_clean=re.sub(\"-\\d{2}.*\",\"\",newdf.hiredate[154185])\n",
    "year_clean"
   ]
  },
  {
   "cell_type": "code",
   "execution_count": 146,
   "metadata": {},
   "outputs": [
    {
     "data": {
      "text/plain": [
       "154187"
      ]
     },
     "execution_count": 146,
     "metadata": {},
     "output_type": "execute_result"
    }
   ],
   "source": [
    "newdf.shape[0]"
   ]
  },
  {
   "cell_type": "markdown",
   "metadata": {},
   "source": [
    "* Making a temp df"
   ]
  },
  {
   "cell_type": "code",
   "execution_count": 147,
   "metadata": {},
   "outputs": [],
   "source": [
    "newdff=newdf.copy()"
   ]
  },
  {
   "cell_type": "code",
   "execution_count": 148,
   "metadata": {},
   "outputs": [
    {
     "name": "stdout",
     "output_type": "stream",
     "text": [
      "<class 'pandas.core.frame.DataFrame'>\n",
      "RangeIndex: 154187 entries, 0 to 154186\n",
      "Data columns (total 10 columns):\n",
      " #   Column         Non-Null Count   Dtype  \n",
      "---  ------         --------------   -----  \n",
      " 0   lastname       153777 non-null  object \n",
      " 1   middleinitial  121195 non-null  object \n",
      " 2   firstname      154187 non-null  object \n",
      " 3   jobclass       154003 non-null  object \n",
      " 4   agencyname     154187 non-null  object \n",
      " 5   agencyid       154187 non-null  object \n",
      " 6   annualsalary   154187 non-null  float64\n",
      " 7   hiredate       154185 non-null  object \n",
      " 8   fiscalyear     154187 non-null  object \n",
      " 9   objectid       154187 non-null  int64  \n",
      "dtypes: float64(1), int64(1), object(8)\n",
      "memory usage: 11.8+ MB\n"
     ]
    }
   ],
   "source": [
    "newdf.info()"
   ]
  },
  {
   "cell_type": "code",
   "execution_count": 149,
   "metadata": {},
   "outputs": [],
   "source": [
    "newdf['hireyear']=0"
   ]
  },
  {
   "cell_type": "code",
   "execution_count": 150,
   "metadata": {},
   "outputs": [
    {
     "data": {
      "text/html": [
       "<div>\n",
       "<style scoped>\n",
       "    .dataframe tbody tr th:only-of-type {\n",
       "        vertical-align: middle;\n",
       "    }\n",
       "\n",
       "    .dataframe tbody tr th {\n",
       "        vertical-align: top;\n",
       "    }\n",
       "\n",
       "    .dataframe thead th {\n",
       "        text-align: right;\n",
       "    }\n",
       "</style>\n",
       "<table border=\"1\" class=\"dataframe\">\n",
       "  <thead>\n",
       "    <tr style=\"text-align: right;\">\n",
       "      <th></th>\n",
       "      <th>lastname</th>\n",
       "      <th>middleinitial</th>\n",
       "      <th>firstname</th>\n",
       "      <th>jobclass</th>\n",
       "      <th>agencyname</th>\n",
       "      <th>agencyid</th>\n",
       "      <th>annualsalary</th>\n",
       "      <th>hiredate</th>\n",
       "      <th>fiscalyear</th>\n",
       "      <th>objectid</th>\n",
       "      <th>hireyear</th>\n",
       "    </tr>\n",
       "  </thead>\n",
       "  <tbody>\n",
       "    <tr>\n",
       "      <th>0</th>\n",
       "      <td>Aaron</td>\n",
       "      <td>D</td>\n",
       "      <td>Kareem</td>\n",
       "      <td>UTILITIES INST REPAIR II</td>\n",
       "      <td>Public Works - Water &amp; Waste Water</td>\n",
       "      <td>A50</td>\n",
       "      <td>34115.0</td>\n",
       "      <td>2018-08-27</td>\n",
       "      <td>FY2021</td>\n",
       "      <td>1</td>\n",
       "      <td>0</td>\n",
       "    </tr>\n",
       "    <tr>\n",
       "      <th>1</th>\n",
       "      <td>Aaron</td>\n",
       "      <td>R</td>\n",
       "      <td>Lynda</td>\n",
       "      <td>ELECTION JUDGES REGULAR</td>\n",
       "      <td>D01</td>\n",
       "      <td>D01</td>\n",
       "      <td>0.0</td>\n",
       "      <td>2020-12-08</td>\n",
       "      <td>FY2021</td>\n",
       "      <td>2</td>\n",
       "      <td>0</td>\n",
       "    </tr>\n",
       "    <tr>\n",
       "      <th>2</th>\n",
       "      <td>Aaron</td>\n",
       "      <td>G</td>\n",
       "      <td>Patricia</td>\n",
       "      <td>FACILITIES/OFFICE SERVICES II</td>\n",
       "      <td>Mayor's Office of Employment Development</td>\n",
       "      <td>A03</td>\n",
       "      <td>63457.0</td>\n",
       "      <td>1979-10-24</td>\n",
       "      <td>FY2021</td>\n",
       "      <td>3</td>\n",
       "      <td>0</td>\n",
       "    </tr>\n",
       "    <tr>\n",
       "      <th>3</th>\n",
       "      <td>Abadir</td>\n",
       "      <td>O</td>\n",
       "      <td>Adam</td>\n",
       "      <td>OPERATIONS OFFICER II</td>\n",
       "      <td>Health Department</td>\n",
       "      <td>A65</td>\n",
       "      <td>74299.0</td>\n",
       "      <td>2016-12-12</td>\n",
       "      <td>FY2021</td>\n",
       "      <td>4</td>\n",
       "      <td>0</td>\n",
       "    </tr>\n",
       "    <tr>\n",
       "      <th>4</th>\n",
       "      <td>Abaku</td>\n",
       "      <td>O</td>\n",
       "      <td>Aigbolosimuan</td>\n",
       "      <td>POLICE OFFICER EID</td>\n",
       "      <td>Police Department</td>\n",
       "      <td>A99</td>\n",
       "      <td>68226.0</td>\n",
       "      <td>2018-04-17</td>\n",
       "      <td>FY2021</td>\n",
       "      <td>5</td>\n",
       "      <td>0</td>\n",
       "    </tr>\n",
       "  </tbody>\n",
       "</table>\n",
       "</div>"
      ],
      "text/plain": [
       "  lastname middleinitial      firstname                       jobclass  \\\n",
       "0    Aaron             D         Kareem       UTILITIES INST REPAIR II   \n",
       "1    Aaron             R          Lynda        ELECTION JUDGES REGULAR   \n",
       "2    Aaron             G       Patricia  FACILITIES/OFFICE SERVICES II   \n",
       "3   Abadir             O           Adam          OPERATIONS OFFICER II   \n",
       "4    Abaku             O  Aigbolosimuan             POLICE OFFICER EID   \n",
       "\n",
       "                                 agencyname agencyid  annualsalary  \\\n",
       "0        Public Works - Water & Waste Water      A50       34115.0   \n",
       "1                                       D01      D01           0.0   \n",
       "2  Mayor's Office of Employment Development      A03       63457.0   \n",
       "3                         Health Department      A65       74299.0   \n",
       "4                         Police Department      A99       68226.0   \n",
       "\n",
       "     hiredate fiscalyear  objectid  hireyear  \n",
       "0  2018-08-27     FY2021         1         0  \n",
       "1  2020-12-08     FY2021         2         0  \n",
       "2  1979-10-24     FY2021         3         0  \n",
       "3  2016-12-12     FY2021         4         0  \n",
       "4  2018-04-17     FY2021         5         0  "
      ]
     },
     "execution_count": 150,
     "metadata": {},
     "output_type": "execute_result"
    }
   ],
   "source": [
    "newdf.head()"
   ]
  },
  {
   "cell_type": "markdown",
   "metadata": {},
   "source": [
    "* Created the new column with the hire year"
   ]
  },
  {
   "cell_type": "code",
   "execution_count": 172,
   "metadata": {},
   "outputs": [],
   "source": [
    "def clean_year_fun(data):\n",
    "    clean_year=re.sub(\"-\\d{2}.*\",\"\",str(data))\n",
    "    return clean_year\n",
    "newdf.hireyear=newdf.hiredate.apply(clean_year_fun)"
   ]
  },
  {
   "cell_type": "markdown",
   "metadata": {},
   "source": [
    "* Adding the hiremonth column"
   ]
  },
  {
   "cell_type": "code",
   "execution_count": 185,
   "metadata": {},
   "outputs": [],
   "source": [
    "newdf['hiremonth']=0"
   ]
  },
  {
   "cell_type": "markdown",
   "metadata": {},
   "source": [
    "* Adding the cleaned month data to the column"
   ]
  },
  {
   "cell_type": "code",
   "execution_count": 192,
   "metadata": {},
   "outputs": [],
   "source": [
    "def clean_month_fun(data):\n",
    "    clean_month=re.sub(\"^\\d{4}-|-\\d{2}\",\"\",str(data))\n",
    "    return clean_month\n",
    "newdf.hiremonth=newdf.hiredate.apply(clean_month_fun)"
   ]
  },
  {
   "cell_type": "code",
   "execution_count": 193,
   "metadata": {},
   "outputs": [
    {
     "data": {
      "text/html": [
       "<div>\n",
       "<style scoped>\n",
       "    .dataframe tbody tr th:only-of-type {\n",
       "        vertical-align: middle;\n",
       "    }\n",
       "\n",
       "    .dataframe tbody tr th {\n",
       "        vertical-align: top;\n",
       "    }\n",
       "\n",
       "    .dataframe thead th {\n",
       "        text-align: right;\n",
       "    }\n",
       "</style>\n",
       "<table border=\"1\" class=\"dataframe\">\n",
       "  <thead>\n",
       "    <tr style=\"text-align: right;\">\n",
       "      <th></th>\n",
       "      <th>lastname</th>\n",
       "      <th>middleinitial</th>\n",
       "      <th>firstname</th>\n",
       "      <th>jobclass</th>\n",
       "      <th>agencyname</th>\n",
       "      <th>agencyid</th>\n",
       "      <th>annualsalary</th>\n",
       "      <th>hiredate</th>\n",
       "      <th>fiscalyear</th>\n",
       "      <th>objectid</th>\n",
       "      <th>hireyear</th>\n",
       "      <th>hiremonth</th>\n",
       "    </tr>\n",
       "  </thead>\n",
       "  <tbody>\n",
       "    <tr>\n",
       "      <th>0</th>\n",
       "      <td>Aaron</td>\n",
       "      <td>D</td>\n",
       "      <td>Kareem</td>\n",
       "      <td>UTILITIES INST REPAIR II</td>\n",
       "      <td>Public Works - Water &amp; Waste Water</td>\n",
       "      <td>A50</td>\n",
       "      <td>34115.0</td>\n",
       "      <td>2018-08-27</td>\n",
       "      <td>FY2021</td>\n",
       "      <td>1</td>\n",
       "      <td>2018</td>\n",
       "      <td>08</td>\n",
       "    </tr>\n",
       "    <tr>\n",
       "      <th>1</th>\n",
       "      <td>Aaron</td>\n",
       "      <td>R</td>\n",
       "      <td>Lynda</td>\n",
       "      <td>ELECTION JUDGES REGULAR</td>\n",
       "      <td>D01</td>\n",
       "      <td>D01</td>\n",
       "      <td>0.0</td>\n",
       "      <td>2020-12-08</td>\n",
       "      <td>FY2021</td>\n",
       "      <td>2</td>\n",
       "      <td>2020</td>\n",
       "      <td>12</td>\n",
       "    </tr>\n",
       "    <tr>\n",
       "      <th>2</th>\n",
       "      <td>Aaron</td>\n",
       "      <td>G</td>\n",
       "      <td>Patricia</td>\n",
       "      <td>FACILITIES/OFFICE SERVICES II</td>\n",
       "      <td>Mayor's Office of Employment Development</td>\n",
       "      <td>A03</td>\n",
       "      <td>63457.0</td>\n",
       "      <td>1979-10-24</td>\n",
       "      <td>FY2021</td>\n",
       "      <td>3</td>\n",
       "      <td>1979</td>\n",
       "      <td>10</td>\n",
       "    </tr>\n",
       "    <tr>\n",
       "      <th>3</th>\n",
       "      <td>Abadir</td>\n",
       "      <td>O</td>\n",
       "      <td>Adam</td>\n",
       "      <td>OPERATIONS OFFICER II</td>\n",
       "      <td>Health Department</td>\n",
       "      <td>A65</td>\n",
       "      <td>74299.0</td>\n",
       "      <td>2016-12-12</td>\n",
       "      <td>FY2021</td>\n",
       "      <td>4</td>\n",
       "      <td>2016</td>\n",
       "      <td>12</td>\n",
       "    </tr>\n",
       "    <tr>\n",
       "      <th>4</th>\n",
       "      <td>Abaku</td>\n",
       "      <td>O</td>\n",
       "      <td>Aigbolosimuan</td>\n",
       "      <td>POLICE OFFICER EID</td>\n",
       "      <td>Police Department</td>\n",
       "      <td>A99</td>\n",
       "      <td>68226.0</td>\n",
       "      <td>2018-04-17</td>\n",
       "      <td>FY2021</td>\n",
       "      <td>5</td>\n",
       "      <td>2018</td>\n",
       "      <td>04</td>\n",
       "    </tr>\n",
       "  </tbody>\n",
       "</table>\n",
       "</div>"
      ],
      "text/plain": [
       "  lastname middleinitial      firstname                       jobclass  \\\n",
       "0    Aaron             D         Kareem       UTILITIES INST REPAIR II   \n",
       "1    Aaron             R          Lynda        ELECTION JUDGES REGULAR   \n",
       "2    Aaron             G       Patricia  FACILITIES/OFFICE SERVICES II   \n",
       "3   Abadir             O           Adam          OPERATIONS OFFICER II   \n",
       "4    Abaku             O  Aigbolosimuan             POLICE OFFICER EID   \n",
       "\n",
       "                                 agencyname agencyid  annualsalary  \\\n",
       "0        Public Works - Water & Waste Water      A50       34115.0   \n",
       "1                                       D01      D01           0.0   \n",
       "2  Mayor's Office of Employment Development      A03       63457.0   \n",
       "3                         Health Department      A65       74299.0   \n",
       "4                         Police Department      A99       68226.0   \n",
       "\n",
       "     hiredate fiscalyear  objectid hireyear hiremonth  \n",
       "0  2018-08-27     FY2021         1     2018        08  \n",
       "1  2020-12-08     FY2021         2     2020        12  \n",
       "2  1979-10-24     FY2021         3     1979        10  \n",
       "3  2016-12-12     FY2021         4     2016        12  \n",
       "4  2018-04-17     FY2021         5     2018        04  "
      ]
     },
     "execution_count": 193,
     "metadata": {},
     "output_type": "execute_result"
    }
   ],
   "source": [
    "newdf.head()"
   ]
  },
  {
   "cell_type": "markdown",
   "metadata": {},
   "source": [
    "* Boxplot for the annualsalary "
   ]
  },
  {
   "cell_type": "code",
   "execution_count": 152,
   "metadata": {},
   "outputs": [
    {
     "data": {
      "image/png": "[encoded data removed]",
      "text/plain": [
       "<Figure size 432x288 with 1 Axes>"
      ]
     },
     "metadata": {
      "needs_background": "light"
     },
     "output_type": "display_data"
    }
   ],
   "source": [
    "newdf.annualsalary.plot.box()\n",
    "plt.grid()"
   ]
  },
  {
   "cell_type": "code",
   "execution_count": 153,
   "metadata": {},
   "outputs": [
    {
     "data": {
      "text/html": [
       "<div>\n",
       "<style scoped>\n",
       "    .dataframe tbody tr th:only-of-type {\n",
       "        vertical-align: middle;\n",
       "    }\n",
       "\n",
       "    .dataframe tbody tr th {\n",
       "        vertical-align: top;\n",
       "    }\n",
       "\n",
       "    .dataframe thead th {\n",
       "        text-align: right;\n",
       "    }\n",
       "</style>\n",
       "<table border=\"1\" class=\"dataframe\">\n",
       "  <thead>\n",
       "    <tr style=\"text-align: right;\">\n",
       "      <th></th>\n",
       "      <th>lastname</th>\n",
       "      <th>middleinitial</th>\n",
       "      <th>firstname</th>\n",
       "      <th>jobclass</th>\n",
       "      <th>agencyname</th>\n",
       "      <th>agencyid</th>\n",
       "      <th>annualsalary</th>\n",
       "      <th>hiredate</th>\n",
       "      <th>fiscalyear</th>\n",
       "      <th>objectid</th>\n",
       "      <th>hireyear</th>\n",
       "    </tr>\n",
       "  </thead>\n",
       "  <tbody>\n",
       "    <tr>\n",
       "      <th>0</th>\n",
       "      <td>Aaron</td>\n",
       "      <td>D</td>\n",
       "      <td>Kareem</td>\n",
       "      <td>UTILITIES INST REPAIR II</td>\n",
       "      <td>Public Works - Water &amp; Waste Water</td>\n",
       "      <td>A50</td>\n",
       "      <td>34115.0</td>\n",
       "      <td>2018-08-27</td>\n",
       "      <td>FY2021</td>\n",
       "      <td>1</td>\n",
       "      <td>0</td>\n",
       "    </tr>\n",
       "    <tr>\n",
       "      <th>1</th>\n",
       "      <td>Aaron</td>\n",
       "      <td>R</td>\n",
       "      <td>Lynda</td>\n",
       "      <td>ELECTION JUDGES REGULAR</td>\n",
       "      <td>D01</td>\n",
       "      <td>D01</td>\n",
       "      <td>0.0</td>\n",
       "      <td>2020-12-08</td>\n",
       "      <td>FY2021</td>\n",
       "      <td>2</td>\n",
       "      <td>0</td>\n",
       "    </tr>\n",
       "    <tr>\n",
       "      <th>2</th>\n",
       "      <td>Aaron</td>\n",
       "      <td>G</td>\n",
       "      <td>Patricia</td>\n",
       "      <td>FACILITIES/OFFICE SERVICES II</td>\n",
       "      <td>Mayor's Office of Employment Development</td>\n",
       "      <td>A03</td>\n",
       "      <td>63457.0</td>\n",
       "      <td>1979-10-24</td>\n",
       "      <td>FY2021</td>\n",
       "      <td>3</td>\n",
       "      <td>0</td>\n",
       "    </tr>\n",
       "    <tr>\n",
       "      <th>3</th>\n",
       "      <td>Abadir</td>\n",
       "      <td>O</td>\n",
       "      <td>Adam</td>\n",
       "      <td>OPERATIONS OFFICER II</td>\n",
       "      <td>Health Department</td>\n",
       "      <td>A65</td>\n",
       "      <td>74299.0</td>\n",
       "      <td>2016-12-12</td>\n",
       "      <td>FY2021</td>\n",
       "      <td>4</td>\n",
       "      <td>0</td>\n",
       "    </tr>\n",
       "    <tr>\n",
       "      <th>4</th>\n",
       "      <td>Abaku</td>\n",
       "      <td>O</td>\n",
       "      <td>Aigbolosimuan</td>\n",
       "      <td>POLICE OFFICER EID</td>\n",
       "      <td>Police Department</td>\n",
       "      <td>A99</td>\n",
       "      <td>68226.0</td>\n",
       "      <td>2018-04-17</td>\n",
       "      <td>FY2021</td>\n",
       "      <td>5</td>\n",
       "      <td>0</td>\n",
       "    </tr>\n",
       "  </tbody>\n",
       "</table>\n",
       "</div>"
      ],
      "text/plain": [
       "  lastname middleinitial      firstname                       jobclass  \\\n",
       "0    Aaron             D         Kareem       UTILITIES INST REPAIR II   \n",
       "1    Aaron             R          Lynda        ELECTION JUDGES REGULAR   \n",
       "2    Aaron             G       Patricia  FACILITIES/OFFICE SERVICES II   \n",
       "3   Abadir             O           Adam          OPERATIONS OFFICER II   \n",
       "4    Abaku             O  Aigbolosimuan             POLICE OFFICER EID   \n",
       "\n",
       "                                 agencyname agencyid  annualsalary  \\\n",
       "0        Public Works - Water & Waste Water      A50       34115.0   \n",
       "1                                       D01      D01           0.0   \n",
       "2  Mayor's Office of Employment Development      A03       63457.0   \n",
       "3                         Health Department      A65       74299.0   \n",
       "4                         Police Department      A99       68226.0   \n",
       "\n",
       "     hiredate fiscalyear  objectid  hireyear  \n",
       "0  2018-08-27     FY2021         1         0  \n",
       "1  2020-12-08     FY2021         2         0  \n",
       "2  1979-10-24     FY2021         3         0  \n",
       "3  2016-12-12     FY2021         4         0  \n",
       "4  2018-04-17     FY2021         5         0  "
      ]
     },
     "execution_count": 153,
     "metadata": {},
     "output_type": "execute_result"
    }
   ],
   "source": [
    "newdf.head()"
   ]
  },
  {
   "cell_type": "markdown",
   "metadata": {},
   "source": [
    "* Getting the count of each job "
   ]
  },
  {
   "cell_type": "code",
   "execution_count": 154,
   "metadata": {},
   "outputs": [
    {
     "data": {
      "text/plain": [
       "POLICE OFFICER                 18958\n",
       "CROSSING GUARD                  3546\n",
       "LABORER (HOURLY)                3388\n",
       "EMT FIREFIGHTER SUPPRESSION     2876\n",
       "COMMUNITY AIDE                  2865\n",
       "POLICE SERGEANT                 2651\n",
       "RECREATION ARTS INSTRUCTOR      2215\n",
       "LABORER                         1958\n",
       "ELECTION JUDGES REGULAR         1738\n",
       "ASSISTANT STATE'S ATTORNEY      1679\n",
       "Name: jobclass, dtype: int64"
      ]
     },
     "execution_count": 154,
     "metadata": {},
     "output_type": "execute_result"
    }
   ],
   "source": [
    "newdf.jobclass.value_counts()[:10]"
   ]
  },
  {
   "cell_type": "markdown",
   "metadata": {},
   "source": [
    "* Converting the jobs to list"
   ]
  },
  {
   "cell_type": "code",
   "execution_count": 155,
   "metadata": {},
   "outputs": [],
   "source": [
    "lables=newdf.jobclass.value_counts()[:10].index.tolist()"
   ]
  },
  {
   "cell_type": "markdown",
   "metadata": {},
   "source": [
    "* Plotting the % of the jobs in pie"
   ]
  },
  {
   "cell_type": "code",
   "execution_count": 156,
   "metadata": {},
   "outputs": [
    {
     "data": {
      "text/plain": [
       "<Figure size 3600x3600 with 0 Axes>"
      ]
     },
     "execution_count": 156,
     "metadata": {},
     "output_type": "execute_result"
    },
    {
     "data": {
      "image/png": "[encoded data removed]",
      "text/plain": [
       "<Figure size 432x288 with 1 Axes>"
      ]
     },
     "metadata": {},
     "output_type": "display_data"
    },
    {
     "data": {
      "text/plain": [
       "<Figure size 3600x3600 with 0 Axes>"
      ]
     },
     "metadata": {},
     "output_type": "display_data"
    }
   ],
   "source": [
    "plt.pie(newdf.jobclass.value_counts()[:10],labels=lables,shadow=True,autopct='%1.1f%%')\n",
    "# plt.legend()\n",
    "plt.figure(figsize=(50,50))\n"
   ]
  },
  {
   "cell_type": "markdown",
   "metadata": {},
   "source": [
    "* Plotting the bar for the number of jobs per job profile"
   ]
  },
  {
   "cell_type": "code",
   "execution_count": 157,
   "metadata": {},
   "outputs": [
    {
     "data": {
      "text/plain": [
       "<AxesSubplot:xlabel='jobclass'>"
      ]
     },
     "execution_count": 157,
     "metadata": {},
     "output_type": "execute_result"
    },
    {
     "data": {
      "image/png": "[encoded data removed]",
      "text/plain": [
       "<Figure size 432x288 with 1 Axes>"
      ]
     },
     "metadata": {
      "needs_background": "light"
     },
     "output_type": "display_data"
    }
   ],
   "source": [
    "newdf.groupby(['jobclass'])['firstname'].count().sort_values(ascending=False).head(10).plot.bar()"
   ]
  },
  {
   "cell_type": "code",
   "execution_count": 158,
   "metadata": {},
   "outputs": [
    {
     "data": {
      "text/html": [
       "<div>\n",
       "<style scoped>\n",
       "    .dataframe tbody tr th:only-of-type {\n",
       "        vertical-align: middle;\n",
       "    }\n",
       "\n",
       "    .dataframe tbody tr th {\n",
       "        vertical-align: top;\n",
       "    }\n",
       "\n",
       "    .dataframe thead th {\n",
       "        text-align: right;\n",
       "    }\n",
       "</style>\n",
       "<table border=\"1\" class=\"dataframe\">\n",
       "  <thead>\n",
       "    <tr style=\"text-align: right;\">\n",
       "      <th></th>\n",
       "      <th>annualsalary</th>\n",
       "      <th>objectid</th>\n",
       "      <th>hireyear</th>\n",
       "    </tr>\n",
       "  </thead>\n",
       "  <tbody>\n",
       "    <tr>\n",
       "      <th>count</th>\n",
       "      <td>154187.000000</td>\n",
       "      <td>154187.000000</td>\n",
       "      <td>154187.0</td>\n",
       "    </tr>\n",
       "    <tr>\n",
       "      <th>mean</th>\n",
       "      <td>52873.341579</td>\n",
       "      <td>77094.000000</td>\n",
       "      <td>0.0</td>\n",
       "    </tr>\n",
       "    <tr>\n",
       "      <th>std</th>\n",
       "      <td>25066.781786</td>\n",
       "      <td>44510.097315</td>\n",
       "      <td>0.0</td>\n",
       "    </tr>\n",
       "    <tr>\n",
       "      <th>min</th>\n",
       "      <td>0.000000</td>\n",
       "      <td>1.000000</td>\n",
       "      <td>0.0</td>\n",
       "    </tr>\n",
       "    <tr>\n",
       "      <th>25%</th>\n",
       "      <td>34518.000000</td>\n",
       "      <td>38547.500000</td>\n",
       "      <td>0.0</td>\n",
       "    </tr>\n",
       "    <tr>\n",
       "      <th>50%</th>\n",
       "      <td>50238.000000</td>\n",
       "      <td>77094.000000</td>\n",
       "      <td>0.0</td>\n",
       "    </tr>\n",
       "    <tr>\n",
       "      <th>75%</th>\n",
       "      <td>68487.000000</td>\n",
       "      <td>115640.500000</td>\n",
       "      <td>0.0</td>\n",
       "    </tr>\n",
       "    <tr>\n",
       "      <th>max</th>\n",
       "      <td>276375.000000</td>\n",
       "      <td>154187.000000</td>\n",
       "      <td>0.0</td>\n",
       "    </tr>\n",
       "  </tbody>\n",
       "</table>\n",
       "</div>"
      ],
      "text/plain": [
       "        annualsalary       objectid  hireyear\n",
       "count  154187.000000  154187.000000  154187.0\n",
       "mean    52873.341579   77094.000000       0.0\n",
       "std     25066.781786   44510.097315       0.0\n",
       "min         0.000000       1.000000       0.0\n",
       "25%     34518.000000   38547.500000       0.0\n",
       "50%     50238.000000   77094.000000       0.0\n",
       "75%     68487.000000  115640.500000       0.0\n",
       "max    276375.000000  154187.000000       0.0"
      ]
     },
     "execution_count": 158,
     "metadata": {},
     "output_type": "execute_result"
    }
   ],
   "source": [
    "newdf.describe()"
   ]
  },
  {
   "cell_type": "markdown",
   "metadata": {},
   "source": [
    "* Getting the highest paid jobs"
   ]
  },
  {
   "cell_type": "code",
   "execution_count": 159,
   "metadata": {},
   "outputs": [],
   "source": [
    "\n",
    "high_jobs=[]\n",
    "for i in range(10):\n",
    "    j=(newdf.annualsalary.sort_values(ascending=False)[:i+1])\n",
    "    if(i==9):\n",
    "        high_jobs.append(j)\n",
    "    # print(j)"
   ]
  },
  {
   "cell_type": "code",
   "execution_count": 160,
   "metadata": {},
   "outputs": [
    {
     "data": {
      "text/plain": [
       "[5569      276375.0\n",
       " 20737     275000.0\n",
       " 35656     275000.0\n",
       " 11263     255000.0\n",
       " 50361     250000.0\n",
       " 22030     250000.0\n",
       " 37130     250000.0\n",
       " 9062      245000.0\n",
       " 112206    238772.0\n",
       " 98278     238772.0\n",
       " Name: annualsalary, dtype: float64]"
      ]
     },
     "execution_count": 160,
     "metadata": {},
     "output_type": "execute_result"
    }
   ],
   "source": [
    "\n",
    "high_jobs"
   ]
  },
  {
   "cell_type": "code",
   "execution_count": 161,
   "metadata": {},
   "outputs": [
    {
     "data": {
      "text/plain": [
       "5569    276375.0\n",
       "Name: annualsalary, dtype: float64"
      ]
     },
     "execution_count": 161,
     "metadata": {},
     "output_type": "execute_result"
    }
   ],
   "source": [
    "newdf.annualsalary.sort_values(ascending=False)[:1]"
   ]
  },
  {
   "cell_type": "code",
   "execution_count": 162,
   "metadata": {},
   "outputs": [
    {
     "data": {
      "text/html": [
       "<div>\n",
       "<style scoped>\n",
       "    .dataframe tbody tr th:only-of-type {\n",
       "        vertical-align: middle;\n",
       "    }\n",
       "\n",
       "    .dataframe tbody tr th {\n",
       "        vertical-align: top;\n",
       "    }\n",
       "\n",
       "    .dataframe thead th {\n",
       "        text-align: right;\n",
       "    }\n",
       "</style>\n",
       "<table border=\"1\" class=\"dataframe\">\n",
       "  <thead>\n",
       "    <tr style=\"text-align: right;\">\n",
       "      <th></th>\n",
       "      <th>lastname</th>\n",
       "      <th>middleinitial</th>\n",
       "      <th>firstname</th>\n",
       "      <th>jobclass</th>\n",
       "      <th>agencyname</th>\n",
       "      <th>agencyid</th>\n",
       "      <th>annualsalary</th>\n",
       "      <th>hiredate</th>\n",
       "      <th>fiscalyear</th>\n",
       "      <th>objectid</th>\n",
       "      <th>hireyear</th>\n",
       "    </tr>\n",
       "  </thead>\n",
       "  <tbody>\n",
       "    <tr>\n",
       "      <th>0</th>\n",
       "      <td>Aaron</td>\n",
       "      <td>D</td>\n",
       "      <td>Kareem</td>\n",
       "      <td>UTILITIES INST REPAIR II</td>\n",
       "      <td>Public Works - Water &amp; Waste Water</td>\n",
       "      <td>A50</td>\n",
       "      <td>34115.0</td>\n",
       "      <td>2018-08-27</td>\n",
       "      <td>FY2021</td>\n",
       "      <td>1</td>\n",
       "      <td>0</td>\n",
       "    </tr>\n",
       "    <tr>\n",
       "      <th>1</th>\n",
       "      <td>Aaron</td>\n",
       "      <td>R</td>\n",
       "      <td>Lynda</td>\n",
       "      <td>ELECTION JUDGES REGULAR</td>\n",
       "      <td>D01</td>\n",
       "      <td>D01</td>\n",
       "      <td>0.0</td>\n",
       "      <td>2020-12-08</td>\n",
       "      <td>FY2021</td>\n",
       "      <td>2</td>\n",
       "      <td>0</td>\n",
       "    </tr>\n",
       "    <tr>\n",
       "      <th>2</th>\n",
       "      <td>Aaron</td>\n",
       "      <td>G</td>\n",
       "      <td>Patricia</td>\n",
       "      <td>FACILITIES/OFFICE SERVICES II</td>\n",
       "      <td>Mayor's Office of Employment Development</td>\n",
       "      <td>A03</td>\n",
       "      <td>63457.0</td>\n",
       "      <td>1979-10-24</td>\n",
       "      <td>FY2021</td>\n",
       "      <td>3</td>\n",
       "      <td>0</td>\n",
       "    </tr>\n",
       "    <tr>\n",
       "      <th>3</th>\n",
       "      <td>Abadir</td>\n",
       "      <td>O</td>\n",
       "      <td>Adam</td>\n",
       "      <td>OPERATIONS OFFICER II</td>\n",
       "      <td>Health Department</td>\n",
       "      <td>A65</td>\n",
       "      <td>74299.0</td>\n",
       "      <td>2016-12-12</td>\n",
       "      <td>FY2021</td>\n",
       "      <td>4</td>\n",
       "      <td>0</td>\n",
       "    </tr>\n",
       "    <tr>\n",
       "      <th>4</th>\n",
       "      <td>Abaku</td>\n",
       "      <td>O</td>\n",
       "      <td>Aigbolosimuan</td>\n",
       "      <td>POLICE OFFICER EID</td>\n",
       "      <td>Police Department</td>\n",
       "      <td>A99</td>\n",
       "      <td>68226.0</td>\n",
       "      <td>2018-04-17</td>\n",
       "      <td>FY2021</td>\n",
       "      <td>5</td>\n",
       "      <td>0</td>\n",
       "    </tr>\n",
       "  </tbody>\n",
       "</table>\n",
       "</div>"
      ],
      "text/plain": [
       "  lastname middleinitial      firstname                       jobclass  \\\n",
       "0    Aaron             D         Kareem       UTILITIES INST REPAIR II   \n",
       "1    Aaron             R          Lynda        ELECTION JUDGES REGULAR   \n",
       "2    Aaron             G       Patricia  FACILITIES/OFFICE SERVICES II   \n",
       "3   Abadir             O           Adam          OPERATIONS OFFICER II   \n",
       "4    Abaku             O  Aigbolosimuan             POLICE OFFICER EID   \n",
       "\n",
       "                                 agencyname agencyid  annualsalary  \\\n",
       "0        Public Works - Water & Waste Water      A50       34115.0   \n",
       "1                                       D01      D01           0.0   \n",
       "2  Mayor's Office of Employment Development      A03       63457.0   \n",
       "3                         Health Department      A65       74299.0   \n",
       "4                         Police Department      A99       68226.0   \n",
       "\n",
       "     hiredate fiscalyear  objectid  hireyear  \n",
       "0  2018-08-27     FY2021         1         0  \n",
       "1  2020-12-08     FY2021         2         0  \n",
       "2  1979-10-24     FY2021         3         0  \n",
       "3  2016-12-12     FY2021         4         0  \n",
       "4  2018-04-17     FY2021         5         0  "
      ]
     },
     "execution_count": 162,
     "metadata": {},
     "output_type": "execute_result"
    }
   ],
   "source": [
    "newdf.head()"
   ]
  },
  {
   "cell_type": "markdown",
   "metadata": {},
   "source": [
    "* Converting it into the np array"
   ]
  },
  {
   "cell_type": "code",
   "execution_count": 163,
   "metadata": {},
   "outputs": [],
   "source": [
    "high_jobs_np=np.array(high_jobs,ndmin=0)"
   ]
  },
  {
   "cell_type": "markdown",
   "metadata": {},
   "source": [
    "* Changing the 2D array to 1D"
   ]
  },
  {
   "cell_type": "code",
   "execution_count": 164,
   "metadata": {},
   "outputs": [],
   "source": [
    "high_jobs_np=high_jobs_np.flatten()"
   ]
  },
  {
   "cell_type": "code",
   "execution_count": 165,
   "metadata": {},
   "outputs": [
    {
     "data": {
      "text/plain": [
       "(10,)"
      ]
     },
     "execution_count": 165,
     "metadata": {},
     "output_type": "execute_result"
    }
   ],
   "source": [
    "high_jobs_np.shape"
   ]
  },
  {
   "cell_type": "code",
   "execution_count": 166,
   "metadata": {},
   "outputs": [
    {
     "data": {
      "text/plain": [
       "array([276375., 275000., 275000., 255000., 250000., 250000., 250000.,\n",
       "       245000., 238772., 238772.])"
      ]
     },
     "execution_count": 166,
     "metadata": {},
     "output_type": "execute_result"
    }
   ],
   "source": [
    "high_jobs_np.reshape(10)"
   ]
  },
  {
   "cell_type": "code",
   "execution_count": 167,
   "metadata": {},
   "outputs": [
    {
     "data": {
      "text/plain": [
       "1"
      ]
     },
     "execution_count": 167,
     "metadata": {},
     "output_type": "execute_result"
    }
   ],
   "source": [
    "high_jobs_np.ndim"
   ]
  },
  {
   "cell_type": "markdown",
   "metadata": {},
   "source": [
    "* Plotting the pie for the highest paid jobs\n",
    "\n"
   ]
  },
  {
   "cell_type": "code",
   "execution_count": 168,
   "metadata": {},
   "outputs": [
    {
     "data": {
      "text/plain": [
       "<Figure size 3600x3600 with 0 Axes>"
      ]
     },
     "execution_count": 168,
     "metadata": {},
     "output_type": "execute_result"
    },
    {
     "data": {
      "image/png": "[encoded data removed]",
      "text/plain": [
       "<Figure size 432x288 with 1 Axes>"
      ]
     },
     "metadata": {},
     "output_type": "display_data"
    },
    {
     "data": {
      "text/plain": [
       "<Figure size 3600x3600 with 0 Axes>"
      ]
     },
     "metadata": {},
     "output_type": "display_data"
    }
   ],
   "source": [
    "# plt.pie(newdf.annualsalary.sort_values(ascending=False)[:10],labels=high_jobs_np,shadow=True,autopct='%1.1f%%')\n",
    "plt.pie(high_jobs_np,labels=high_jobs_np,shadow=True,autopct='%1.1f%%')\n",
    "# plt.legend()\n",
    "plt.figure(figsize=(50,50))\n"
   ]
  },
  {
   "cell_type": "code",
   "execution_count": 169,
   "metadata": {},
   "outputs": [
    {
     "data": {
      "text/html": [
       "<div>\n",
       "<style scoped>\n",
       "    .dataframe tbody tr th:only-of-type {\n",
       "        vertical-align: middle;\n",
       "    }\n",
       "\n",
       "    .dataframe tbody tr th {\n",
       "        vertical-align: top;\n",
       "    }\n",
       "\n",
       "    .dataframe thead th {\n",
       "        text-align: right;\n",
       "    }\n",
       "</style>\n",
       "<table border=\"1\" class=\"dataframe\">\n",
       "  <thead>\n",
       "    <tr style=\"text-align: right;\">\n",
       "      <th></th>\n",
       "      <th>lastname</th>\n",
       "      <th>middleinitial</th>\n",
       "      <th>firstname</th>\n",
       "      <th>jobclass</th>\n",
       "      <th>agencyname</th>\n",
       "      <th>agencyid</th>\n",
       "      <th>annualsalary</th>\n",
       "      <th>hiredate</th>\n",
       "      <th>fiscalyear</th>\n",
       "      <th>objectid</th>\n",
       "      <th>hireyear</th>\n",
       "    </tr>\n",
       "  </thead>\n",
       "  <tbody>\n",
       "    <tr>\n",
       "      <th>0</th>\n",
       "      <td>Aaron</td>\n",
       "      <td>D</td>\n",
       "      <td>Kareem</td>\n",
       "      <td>UTILITIES INST REPAIR II</td>\n",
       "      <td>Public Works - Water &amp; Waste Water</td>\n",
       "      <td>A50</td>\n",
       "      <td>34115.0</td>\n",
       "      <td>2018-08-27</td>\n",
       "      <td>FY2021</td>\n",
       "      <td>1</td>\n",
       "      <td>0</td>\n",
       "    </tr>\n",
       "    <tr>\n",
       "      <th>1</th>\n",
       "      <td>Aaron</td>\n",
       "      <td>R</td>\n",
       "      <td>Lynda</td>\n",
       "      <td>ELECTION JUDGES REGULAR</td>\n",
       "      <td>D01</td>\n",
       "      <td>D01</td>\n",
       "      <td>0.0</td>\n",
       "      <td>2020-12-08</td>\n",
       "      <td>FY2021</td>\n",
       "      <td>2</td>\n",
       "      <td>0</td>\n",
       "    </tr>\n",
       "    <tr>\n",
       "      <th>2</th>\n",
       "      <td>Aaron</td>\n",
       "      <td>G</td>\n",
       "      <td>Patricia</td>\n",
       "      <td>FACILITIES/OFFICE SERVICES II</td>\n",
       "      <td>Mayor's Office of Employment Development</td>\n",
       "      <td>A03</td>\n",
       "      <td>63457.0</td>\n",
       "      <td>1979-10-24</td>\n",
       "      <td>FY2021</td>\n",
       "      <td>3</td>\n",
       "      <td>0</td>\n",
       "    </tr>\n",
       "    <tr>\n",
       "      <th>3</th>\n",
       "      <td>Abadir</td>\n",
       "      <td>O</td>\n",
       "      <td>Adam</td>\n",
       "      <td>OPERATIONS OFFICER II</td>\n",
       "      <td>Health Department</td>\n",
       "      <td>A65</td>\n",
       "      <td>74299.0</td>\n",
       "      <td>2016-12-12</td>\n",
       "      <td>FY2021</td>\n",
       "      <td>4</td>\n",
       "      <td>0</td>\n",
       "    </tr>\n",
       "    <tr>\n",
       "      <th>4</th>\n",
       "      <td>Abaku</td>\n",
       "      <td>O</td>\n",
       "      <td>Aigbolosimuan</td>\n",
       "      <td>POLICE OFFICER EID</td>\n",
       "      <td>Police Department</td>\n",
       "      <td>A99</td>\n",
       "      <td>68226.0</td>\n",
       "      <td>2018-04-17</td>\n",
       "      <td>FY2021</td>\n",
       "      <td>5</td>\n",
       "      <td>0</td>\n",
       "    </tr>\n",
       "  </tbody>\n",
       "</table>\n",
       "</div>"
      ],
      "text/plain": [
       "  lastname middleinitial      firstname                       jobclass  \\\n",
       "0    Aaron             D         Kareem       UTILITIES INST REPAIR II   \n",
       "1    Aaron             R          Lynda        ELECTION JUDGES REGULAR   \n",
       "2    Aaron             G       Patricia  FACILITIES/OFFICE SERVICES II   \n",
       "3   Abadir             O           Adam          OPERATIONS OFFICER II   \n",
       "4    Abaku             O  Aigbolosimuan             POLICE OFFICER EID   \n",
       "\n",
       "                                 agencyname agencyid  annualsalary  \\\n",
       "0        Public Works - Water & Waste Water      A50       34115.0   \n",
       "1                                       D01      D01           0.0   \n",
       "2  Mayor's Office of Employment Development      A03       63457.0   \n",
       "3                         Health Department      A65       74299.0   \n",
       "4                         Police Department      A99       68226.0   \n",
       "\n",
       "     hiredate fiscalyear  objectid  hireyear  \n",
       "0  2018-08-27     FY2021         1         0  \n",
       "1  2020-12-08     FY2021         2         0  \n",
       "2  1979-10-24     FY2021         3         0  \n",
       "3  2016-12-12     FY2021         4         0  \n",
       "4  2018-04-17     FY2021         5         0  "
      ]
     },
     "execution_count": 169,
     "metadata": {},
     "output_type": "execute_result"
    }
   ],
   "source": [
    "newdf.head()"
   ]
  },
  {
   "cell_type": "markdown",
   "metadata": {},
   "source": [
    "* Plotting the bar for the higest employment provider agency"
   ]
  },
  {
   "cell_type": "code",
   "execution_count": 170,
   "metadata": {},
   "outputs": [
    {
     "data": {
      "text/plain": [
       "<AxesSubplot:xlabel='agencyid'>"
      ]
     },
     "execution_count": 170,
     "metadata": {},
     "output_type": "execute_result"
    },
    {
     "data": {
      "image/png": "[encoded data removed]",
      "text/plain": [
       "<Figure size 432x288 with 1 Axes>"
      ]
     },
     "metadata": {
      "needs_background": "light"
     },
     "output_type": "display_data"
    }
   ],
   "source": [
    "newdf.groupby(['agencyid'])[\"firstname\"].count().sort_values(ascending=False).head(10).plot.bar()"
   ]
  },
  {
   "cell_type": "markdown",
   "metadata": {},
   "source": [
    "* Plot Salary v/s Year Graph"
   ]
  },
  {
   "cell_type": "code",
   "execution_count": 175,
   "metadata": {},
   "outputs": [
    {
     "data": {
      "text/html": [
       "<div>\n",
       "<style scoped>\n",
       "    .dataframe tbody tr th:only-of-type {\n",
       "        vertical-align: middle;\n",
       "    }\n",
       "\n",
       "    .dataframe tbody tr th {\n",
       "        vertical-align: top;\n",
       "    }\n",
       "\n",
       "    .dataframe thead th {\n",
       "        text-align: right;\n",
       "    }\n",
       "</style>\n",
       "<table border=\"1\" class=\"dataframe\">\n",
       "  <thead>\n",
       "    <tr style=\"text-align: right;\">\n",
       "      <th></th>\n",
       "      <th>lastname</th>\n",
       "      <th>middleinitial</th>\n",
       "      <th>firstname</th>\n",
       "      <th>jobclass</th>\n",
       "      <th>agencyname</th>\n",
       "      <th>agencyid</th>\n",
       "      <th>annualsalary</th>\n",
       "      <th>hiredate</th>\n",
       "      <th>fiscalyear</th>\n",
       "      <th>objectid</th>\n",
       "      <th>hireyear</th>\n",
       "    </tr>\n",
       "  </thead>\n",
       "  <tbody>\n",
       "    <tr>\n",
       "      <th>0</th>\n",
       "      <td>Aaron</td>\n",
       "      <td>D</td>\n",
       "      <td>Kareem</td>\n",
       "      <td>UTILITIES INST REPAIR II</td>\n",
       "      <td>Public Works - Water &amp; Waste Water</td>\n",
       "      <td>A50</td>\n",
       "      <td>34115.0</td>\n",
       "      <td>2018-08-27</td>\n",
       "      <td>FY2021</td>\n",
       "      <td>1</td>\n",
       "      <td>2018</td>\n",
       "    </tr>\n",
       "    <tr>\n",
       "      <th>1</th>\n",
       "      <td>Aaron</td>\n",
       "      <td>R</td>\n",
       "      <td>Lynda</td>\n",
       "      <td>ELECTION JUDGES REGULAR</td>\n",
       "      <td>D01</td>\n",
       "      <td>D01</td>\n",
       "      <td>0.0</td>\n",
       "      <td>2020-12-08</td>\n",
       "      <td>FY2021</td>\n",
       "      <td>2</td>\n",
       "      <td>2020</td>\n",
       "    </tr>\n",
       "    <tr>\n",
       "      <th>2</th>\n",
       "      <td>Aaron</td>\n",
       "      <td>G</td>\n",
       "      <td>Patricia</td>\n",
       "      <td>FACILITIES/OFFICE SERVICES II</td>\n",
       "      <td>Mayor's Office of Employment Development</td>\n",
       "      <td>A03</td>\n",
       "      <td>63457.0</td>\n",
       "      <td>1979-10-24</td>\n",
       "      <td>FY2021</td>\n",
       "      <td>3</td>\n",
       "      <td>1979</td>\n",
       "    </tr>\n",
       "    <tr>\n",
       "      <th>3</th>\n",
       "      <td>Abadir</td>\n",
       "      <td>O</td>\n",
       "      <td>Adam</td>\n",
       "      <td>OPERATIONS OFFICER II</td>\n",
       "      <td>Health Department</td>\n",
       "      <td>A65</td>\n",
       "      <td>74299.0</td>\n",
       "      <td>2016-12-12</td>\n",
       "      <td>FY2021</td>\n",
       "      <td>4</td>\n",
       "      <td>2016</td>\n",
       "    </tr>\n",
       "    <tr>\n",
       "      <th>4</th>\n",
       "      <td>Abaku</td>\n",
       "      <td>O</td>\n",
       "      <td>Aigbolosimuan</td>\n",
       "      <td>POLICE OFFICER EID</td>\n",
       "      <td>Police Department</td>\n",
       "      <td>A99</td>\n",
       "      <td>68226.0</td>\n",
       "      <td>2018-04-17</td>\n",
       "      <td>FY2021</td>\n",
       "      <td>5</td>\n",
       "      <td>2018</td>\n",
       "    </tr>\n",
       "  </tbody>\n",
       "</table>\n",
       "</div>"
      ],
      "text/plain": [
       "  lastname middleinitial      firstname                       jobclass  \\\n",
       "0    Aaron             D         Kareem       UTILITIES INST REPAIR II   \n",
       "1    Aaron             R          Lynda        ELECTION JUDGES REGULAR   \n",
       "2    Aaron             G       Patricia  FACILITIES/OFFICE SERVICES II   \n",
       "3   Abadir             O           Adam          OPERATIONS OFFICER II   \n",
       "4    Abaku             O  Aigbolosimuan             POLICE OFFICER EID   \n",
       "\n",
       "                                 agencyname agencyid  annualsalary  \\\n",
       "0        Public Works - Water & Waste Water      A50       34115.0   \n",
       "1                                       D01      D01           0.0   \n",
       "2  Mayor's Office of Employment Development      A03       63457.0   \n",
       "3                         Health Department      A65       74299.0   \n",
       "4                         Police Department      A99       68226.0   \n",
       "\n",
       "     hiredate fiscalyear  objectid hireyear  \n",
       "0  2018-08-27     FY2021         1     2018  \n",
       "1  2020-12-08     FY2021         2     2020  \n",
       "2  1979-10-24     FY2021         3     1979  \n",
       "3  2016-12-12     FY2021         4     2016  \n",
       "4  2018-04-17     FY2021         5     2018  "
      ]
     },
     "execution_count": 175,
     "metadata": {},
     "output_type": "execute_result"
    }
   ],
   "source": [
    "newdf.head()"
   ]
  },
  {
   "cell_type": "code",
   "execution_count": 183,
   "metadata": {},
   "outputs": [
    {
     "data": {
      "text/plain": [
       "Text(0, 0.5, 'Salaries')"
      ]
     },
     "execution_count": 183,
     "metadata": {},
     "output_type": "execute_result"
    },
    {
     "data": {
      "image/png": "[encoded data removed]",
      "text/plain": [
       "<Figure size 432x288 with 1 Axes>"
      ]
     },
     "metadata": {
      "needs_background": "light"
     },
     "output_type": "display_data"
    }
   ],
   "source": [
    "newdf.groupby(['hireyear'])['annualsalary'].max().plot.bar()\n",
    "# plt.figure(figsize=(4000,4000))\n",
    "plt.title(\"Highest Salary v/s Year\")\n",
    "plt.ylabel(\"Salaries\")"
   ]
  },
  {
   "cell_type": "markdown",
   "metadata": {},
   "source": [
    "* Plot Average Salary v/s Year graph"
   ]
  },
  {
   "cell_type": "code",
   "execution_count": 184,
   "metadata": {},
   "outputs": [
    {
     "data": {
      "text/plain": [
       "Text(0, 0.5, 'Salaries')"
      ]
     },
     "execution_count": 184,
     "metadata": {},
     "output_type": "execute_result"
    },
    {
     "data": {
      "image/png": "[encoded data removed]",
      "text/plain": [
       "<Figure size 432x288 with 1 Axes>"
      ]
     },
     "metadata": {
      "needs_background": "light"
     },
     "output_type": "display_data"
    }
   ],
   "source": [
    "newdf.groupby(['hireyear'])['annualsalary'].mean().plot.bar()\n",
    "# plt.figure(figsize=(4000,4000))\n",
    "plt.title(\"Average Salary v/s Year\")\n",
    "plt.ylabel(\"Salaries\")"
   ]
  },
  {
   "cell_type": "markdown",
   "metadata": {},
   "source": [
    "* Plot a graph to check on which month most of the people are hired"
   ]
  },
  {
   "cell_type": "code",
   "execution_count": 194,
   "metadata": {},
   "outputs": [
    {
     "data": {
      "text/plain": [
       "Text(0, 0.5, 'No. Of people hired')"
      ]
     },
     "execution_count": 194,
     "metadata": {},
     "output_type": "execute_result"
    },
    {
     "data": {
      "image/png": "[encoded data removed]",
      "text/plain": [
       "<Figure size 432x288 with 1 Axes>"
      ]
     },
     "metadata": {
      "needs_background": "light"
     },
     "output_type": "display_data"
    }
   ],
   "source": [
    "newdf.groupby(['hiremonth'])['firstname'].count().plot.bar()\n",
    "# plt.figure(figsize=(4000,4000))\n",
    "plt.title(\"Hiremonth v/s No.of People hired\")\n",
    "plt.ylabel(\"No. Of people hired\")"
   ]
  }
 ],
 "metadata": {
  "kernelspec": {
   "display_name": "Python 3.10.6 64-bit (windows store)",
   "language": "python",
   "name": "python3"
  },
  "language_info": {
   "codemirror_mode": {
    "name": "ipython",
    "version": 3
   },
   "file_extension": ".py",
   "mimetype": "text/x-python",
   "name": "python",
   "nbconvert_exporter": "python",
   "pygments_lexer": "ipython3",
   "version": "3.10.6"
  },
  "orig_nbformat": 4,
  "vscode": {
   "interpreter": {
    "hash": "a08f583acb35847448b52a9eb69292a61cb88f49696fc3f852078c09d98ba127"
   }
  }
 },
 "nbformat": 4,
 "nbformat_minor": 2
}
