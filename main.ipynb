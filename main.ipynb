{
 "cells": [
  {
   "cell_type": "markdown",
   "metadata": {},
   "source": [
    "# Baltimor Salary Prediction"
   ]
  },
  {
   "cell_type": "markdown",
   "metadata": {},
   "source": [
    "To-Do : Dataset which captures the salary from July 1st, 2013 through June 30th, 2014. It includes only those employees who are employed on June 30, 2014. Predict the salary of Employees working in Baltimore"
   ]
  },
  {
   "cell_type": "markdown",
   "metadata": {},
   "source": [
    "* Libraries"
   ]
  },
  {
   "cell_type": "code",
   "execution_count": 3,
   "metadata": {},
   "outputs": [],
   "source": [
    "import pandas as pd\n",
    "import numpy as np\n",
    "import re\n",
    "import matplotlib.pyplot as plt\n",
    "import seaborn as sns\n",
    "from sklearn.preprocessing import StandardScaler\n",
    "from sklearn.svm import SVR\n",
    "from sklearn.metrics import r2_score, mean_absolute_error,mean_squared_error\n",
    " "
   ]
  },
  {
   "cell_type": "markdown",
   "metadata": {},
   "source": [
    "* Importing Dataset"
   ]
  },
  {
   "cell_type": "code",
   "execution_count": 5,
   "metadata": {},
   "outputs": [],
   "source": [
    "df=pd.read_csv('https://data.baltimorecity.gov/datasets/baltimore::baltimore-city-employee-salaries.csv')"
   ]
  },
  {
   "cell_type": "markdown",
   "metadata": {},
   "source": [
    "# Data Exploration\n"
   ]
  },
  {
   "cell_type": "code",
   "execution_count": 6,
   "metadata": {},
   "outputs": [
    {
     "data": {
      "text/html": [
       "<div>\n",
       "<style scoped>\n",
       "    .dataframe tbody tr th:only-of-type {\n",
       "        vertical-align: middle;\n",
       "    }\n",
       "\n",
       "    .dataframe tbody tr th {\n",
       "        vertical-align: top;\n",
       "    }\n",
       "\n",
       "    .dataframe thead th {\n",
       "        text-align: right;\n",
       "    }\n",
       "</style>\n",
       "<table border=\"1\" class=\"dataframe\">\n",
       "  <thead>\n",
       "    <tr style=\"text-align: right;\">\n",
       "      <th></th>\n",
       "      <th>lastName</th>\n",
       "      <th>middleInitial</th>\n",
       "      <th>firstName</th>\n",
       "      <th>jobClass</th>\n",
       "      <th>agencyName</th>\n",
       "      <th>agencyID</th>\n",
       "      <th>annualSalary</th>\n",
       "      <th>grossPay</th>\n",
       "      <th>hireDate</th>\n",
       "      <th>fiscalYear</th>\n",
       "      <th>ObjectId</th>\n",
       "    </tr>\n",
       "  </thead>\n",
       "  <tbody>\n",
       "    <tr>\n",
       "      <th>0</th>\n",
       "      <td>Aaron</td>\n",
       "      <td>D</td>\n",
       "      <td>Kareem</td>\n",
       "      <td>UTILITIES INST REPAIR II</td>\n",
       "      <td>Public Works - Water &amp; Waste Water</td>\n",
       "      <td>A50</td>\n",
       "      <td>34115.0</td>\n",
       "      <td>44557.99</td>\n",
       "      <td>2018-08-27</td>\n",
       "      <td>FY2021</td>\n",
       "      <td>1</td>\n",
       "    </tr>\n",
       "    <tr>\n",
       "      <th>1</th>\n",
       "      <td>Aaron</td>\n",
       "      <td>R</td>\n",
       "      <td>Lynda</td>\n",
       "      <td>ELECTION JUDGES REGULAR</td>\n",
       "      <td>D01</td>\n",
       "      <td>D01</td>\n",
       "      <td>0.0</td>\n",
       "      <td>185.00</td>\n",
       "      <td>2020-12-08</td>\n",
       "      <td>FY2021</td>\n",
       "      <td>2</td>\n",
       "    </tr>\n",
       "    <tr>\n",
       "      <th>2</th>\n",
       "      <td>Aaron</td>\n",
       "      <td>G</td>\n",
       "      <td>Patricia</td>\n",
       "      <td>FACILITIES/OFFICE SERVICES II</td>\n",
       "      <td>Mayor's Office of Employment Development</td>\n",
       "      <td>A03</td>\n",
       "      <td>63457.0</td>\n",
       "      <td>29461.96</td>\n",
       "      <td>1979-10-24</td>\n",
       "      <td>FY2021</td>\n",
       "      <td>3</td>\n",
       "    </tr>\n",
       "    <tr>\n",
       "      <th>3</th>\n",
       "      <td>Abadir</td>\n",
       "      <td>O</td>\n",
       "      <td>Adam</td>\n",
       "      <td>OPERATIONS OFFICER II</td>\n",
       "      <td>Health Department</td>\n",
       "      <td>A65</td>\n",
       "      <td>74299.0</td>\n",
       "      <td>85450.35</td>\n",
       "      <td>2016-12-12</td>\n",
       "      <td>FY2021</td>\n",
       "      <td>4</td>\n",
       "    </tr>\n",
       "    <tr>\n",
       "      <th>4</th>\n",
       "      <td>Abaku</td>\n",
       "      <td>O</td>\n",
       "      <td>Aigbolosimuan</td>\n",
       "      <td>POLICE OFFICER EID</td>\n",
       "      <td>Police Department</td>\n",
       "      <td>A99</td>\n",
       "      <td>68226.0</td>\n",
       "      <td>102775.97</td>\n",
       "      <td>2018-04-17</td>\n",
       "      <td>FY2021</td>\n",
       "      <td>5</td>\n",
       "    </tr>\n",
       "  </tbody>\n",
       "</table>\n",
       "</div>"
      ],
      "text/plain": [
       "  lastName middleInitial      firstName                       jobClass  \\\n",
       "0    Aaron             D         Kareem       UTILITIES INST REPAIR II   \n",
       "1    Aaron             R          Lynda        ELECTION JUDGES REGULAR   \n",
       "2    Aaron             G       Patricia  FACILITIES/OFFICE SERVICES II   \n",
       "3   Abadir             O           Adam          OPERATIONS OFFICER II   \n",
       "4    Abaku             O  Aigbolosimuan             POLICE OFFICER EID   \n",
       "\n",
       "                                 agencyName agencyID  annualSalary   grossPay  \\\n",
       "0        Public Works - Water & Waste Water      A50       34115.0   44557.99   \n",
       "1                                       D01      D01           0.0     185.00   \n",
       "2  Mayor's Office of Employment Development      A03       63457.0   29461.96   \n",
       "3                         Health Department      A65       74299.0   85450.35   \n",
       "4                         Police Department      A99       68226.0  102775.97   \n",
       "\n",
       "     hireDate fiscalYear  ObjectId  \n",
       "0  2018-08-27     FY2021         1  \n",
       "1  2020-12-08     FY2021         2  \n",
       "2  1979-10-24     FY2021         3  \n",
       "3  2016-12-12     FY2021         4  \n",
       "4  2018-04-17     FY2021         5  "
      ]
     },
     "execution_count": 6,
     "metadata": {},
     "output_type": "execute_result"
    }
   ],
   "source": [
    "df.head()"
   ]
  },
  {
   "cell_type": "code",
   "execution_count": 9,
   "metadata": {},
   "outputs": [
    {
     "data": {
      "text/plain": [
       "Index(['lastName', 'middleInitial', 'firstName', 'jobClass', 'agencyName',\n",
       "       'agencyID', 'annualSalary', 'grossPay', 'hireDate', 'fiscalYear',\n",
       "       'ObjectId'],\n",
       "      dtype='object')"
      ]
     },
     "execution_count": 9,
     "metadata": {},
     "output_type": "execute_result"
    }
   ],
   "source": [
    "df.columns"
   ]
  },
  {
   "cell_type": "code",
   "execution_count": 10,
   "metadata": {},
   "outputs": [
    {
     "data": {
      "text/plain": [
       "lastName          object\n",
       "middleInitial     object\n",
       "firstName         object\n",
       "jobClass          object\n",
       "agencyName        object\n",
       "agencyID          object\n",
       "annualSalary     float64\n",
       "grossPay         float64\n",
       "hireDate          object\n",
       "fiscalYear        object\n",
       "ObjectId           int64\n",
       "dtype: object"
      ]
     },
     "execution_count": 10,
     "metadata": {},
     "output_type": "execute_result"
    }
   ],
   "source": [
    "df.dtypes"
   ]
  },
  {
   "cell_type": "code",
   "execution_count": 12,
   "metadata": {},
   "outputs": [
    {
     "name": "stdout",
     "output_type": "stream",
     "text": [
      "<class 'pandas.core.frame.DataFrame'>\n",
      "RangeIndex: 154187 entries, 0 to 154186\n",
      "Data columns (total 11 columns):\n",
      " #   Column         Non-Null Count   Dtype  \n",
      "---  ------         --------------   -----  \n",
      " 0   lastName       153777 non-null  object \n",
      " 1   middleInitial  121195 non-null  object \n",
      " 2   firstName      154187 non-null  object \n",
      " 3   jobClass       154003 non-null  object \n",
      " 4   agencyName     154187 non-null  object \n",
      " 5   agencyID       154187 non-null  object \n",
      " 6   annualSalary   154187 non-null  float64\n",
      " 7   grossPay       154187 non-null  float64\n",
      " 8   hireDate       154185 non-null  object \n",
      " 9   fiscalYear     154187 non-null  object \n",
      " 10  ObjectId       154187 non-null  int64  \n",
      "dtypes: float64(2), int64(1), object(8)\n",
      "memory usage: 12.9+ MB\n"
     ]
    }
   ],
   "source": [
    "df.info()"
   ]
  },
  {
   "cell_type": "code",
   "execution_count": 14,
   "metadata": {},
   "outputs": [
    {
     "data": {
      "text/plain": [
       "lastName         153777\n",
       "middleInitial    121195\n",
       "firstName        154187\n",
       "jobClass         154003\n",
       "agencyName       154187\n",
       "agencyID         154187\n",
       "annualSalary     154187\n",
       "grossPay         154187\n",
       "hireDate         154185\n",
       "fiscalYear       154187\n",
       "ObjectId         154187\n",
       "dtype: int64"
      ]
     },
     "execution_count": 14,
     "metadata": {},
     "output_type": "execute_result"
    }
   ],
   "source": [
    "df.count()"
   ]
  },
  {
   "cell_type": "code",
   "execution_count": 15,
   "metadata": {},
   "outputs": [
    {
     "data": {
      "text/html": [
       "<div>\n",
       "<style scoped>\n",
       "    .dataframe tbody tr th:only-of-type {\n",
       "        vertical-align: middle;\n",
       "    }\n",
       "\n",
       "    .dataframe tbody tr th {\n",
       "        vertical-align: top;\n",
       "    }\n",
       "\n",
       "    .dataframe thead th {\n",
       "        text-align: right;\n",
       "    }\n",
       "</style>\n",
       "<table border=\"1\" class=\"dataframe\">\n",
       "  <thead>\n",
       "    <tr style=\"text-align: right;\">\n",
       "      <th></th>\n",
       "      <th>annualSalary</th>\n",
       "      <th>grossPay</th>\n",
       "      <th>ObjectId</th>\n",
       "    </tr>\n",
       "  </thead>\n",
       "  <tbody>\n",
       "    <tr>\n",
       "      <th>count</th>\n",
       "      <td>154187.000000</td>\n",
       "      <td>154187.000000</td>\n",
       "      <td>154187.000000</td>\n",
       "    </tr>\n",
       "    <tr>\n",
       "      <th>mean</th>\n",
       "      <td>52873.341579</td>\n",
       "      <td>55266.226727</td>\n",
       "      <td>77094.000000</td>\n",
       "    </tr>\n",
       "    <tr>\n",
       "      <th>std</th>\n",
       "      <td>25066.781786</td>\n",
       "      <td>33516.800966</td>\n",
       "      <td>44510.097315</td>\n",
       "    </tr>\n",
       "    <tr>\n",
       "      <th>min</th>\n",
       "      <td>0.000000</td>\n",
       "      <td>1.710000</td>\n",
       "      <td>1.000000</td>\n",
       "    </tr>\n",
       "    <tr>\n",
       "      <th>25%</th>\n",
       "      <td>34518.000000</td>\n",
       "      <td>33404.750000</td>\n",
       "      <td>38547.500000</td>\n",
       "    </tr>\n",
       "    <tr>\n",
       "      <th>50%</th>\n",
       "      <td>50238.000000</td>\n",
       "      <td>52070.440000</td>\n",
       "      <td>77094.000000</td>\n",
       "    </tr>\n",
       "    <tr>\n",
       "      <th>75%</th>\n",
       "      <td>68487.000000</td>\n",
       "      <td>74476.905000</td>\n",
       "      <td>115640.500000</td>\n",
       "    </tr>\n",
       "    <tr>\n",
       "      <th>max</th>\n",
       "      <td>276375.000000</td>\n",
       "      <td>373111.190000</td>\n",
       "      <td>154187.000000</td>\n",
       "    </tr>\n",
       "  </tbody>\n",
       "</table>\n",
       "</div>"
      ],
      "text/plain": [
       "        annualSalary       grossPay       ObjectId\n",
       "count  154187.000000  154187.000000  154187.000000\n",
       "mean    52873.341579   55266.226727   77094.000000\n",
       "std     25066.781786   33516.800966   44510.097315\n",
       "min         0.000000       1.710000       1.000000\n",
       "25%     34518.000000   33404.750000   38547.500000\n",
       "50%     50238.000000   52070.440000   77094.000000\n",
       "75%     68487.000000   74476.905000  115640.500000\n",
       "max    276375.000000  373111.190000  154187.000000"
      ]
     },
     "execution_count": 15,
     "metadata": {},
     "output_type": "execute_result"
    }
   ],
   "source": [
    "df.describe()"
   ]
  },
  {
   "cell_type": "code",
   "execution_count": 16,
   "metadata": {},
   "outputs": [
    {
     "data": {
      "text/plain": [
       "(154187, 11)"
      ]
     },
     "execution_count": 16,
     "metadata": {},
     "output_type": "execute_result"
    }
   ],
   "source": [
    "df.shape"
   ]
  },
  {
   "cell_type": "code",
   "execution_count": 30,
   "metadata": {},
   "outputs": [
    {
     "data": {
      "text/html": [
       "<div>\n",
       "<style scoped>\n",
       "    .dataframe tbody tr th:only-of-type {\n",
       "        vertical-align: middle;\n",
       "    }\n",
       "\n",
       "    .dataframe tbody tr th {\n",
       "        vertical-align: top;\n",
       "    }\n",
       "\n",
       "    .dataframe thead th {\n",
       "        text-align: right;\n",
       "    }\n",
       "</style>\n",
       "<table border=\"1\" class=\"dataframe\">\n",
       "  <thead>\n",
       "    <tr style=\"text-align: right;\">\n",
       "      <th></th>\n",
       "      <th>lastName</th>\n",
       "      <th>middleInitial</th>\n",
       "      <th>firstName</th>\n",
       "      <th>jobClass</th>\n",
       "      <th>agencyName</th>\n",
       "      <th>agencyID</th>\n",
       "      <th>annualSalary</th>\n",
       "      <th>grossPay</th>\n",
       "      <th>hireDate</th>\n",
       "      <th>fiscalYear</th>\n",
       "      <th>ObjectId</th>\n",
       "    </tr>\n",
       "  </thead>\n",
       "  <tbody>\n",
       "    <tr>\n",
       "      <th>154182</th>\n",
       "      <td>NaN</td>\n",
       "      <td>9</td>\n",
       "      <td>BPD</td>\n",
       "      <td>BPD</td>\n",
       "      <td>Police Department</td>\n",
       "      <td>A99</td>\n",
       "      <td>65499.0</td>\n",
       "      <td>64127.83</td>\n",
       "      <td>1970-01-01</td>\n",
       "      <td>FY2011</td>\n",
       "      <td>154183</td>\n",
       "    </tr>\n",
       "    <tr>\n",
       "      <th>154183</th>\n",
       "      <td>NaN</td>\n",
       "      <td>0</td>\n",
       "      <td>BPD</td>\n",
       "      <td>BPD</td>\n",
       "      <td>Police Department</td>\n",
       "      <td>A99</td>\n",
       "      <td>63384.0</td>\n",
       "      <td>66187.45</td>\n",
       "      <td>1970-01-01</td>\n",
       "      <td>FY2011</td>\n",
       "      <td>154184</td>\n",
       "    </tr>\n",
       "    <tr>\n",
       "      <th>154184</th>\n",
       "      <td>NaN</td>\n",
       "      <td>1</td>\n",
       "      <td>BPD</td>\n",
       "      <td>BPD</td>\n",
       "      <td>Police Department</td>\n",
       "      <td>A99</td>\n",
       "      <td>61102.0</td>\n",
       "      <td>71989.51</td>\n",
       "      <td>1970-01-01</td>\n",
       "      <td>FY2011</td>\n",
       "      <td>154185</td>\n",
       "    </tr>\n",
       "    <tr>\n",
       "      <th>154185</th>\n",
       "      <td>NaN</td>\n",
       "      <td>2</td>\n",
       "      <td>BPD</td>\n",
       "      <td>BPD</td>\n",
       "      <td>Police Department</td>\n",
       "      <td>A99</td>\n",
       "      <td>59958.0</td>\n",
       "      <td>53235.59</td>\n",
       "      <td>1970-01-01</td>\n",
       "      <td>FY2011</td>\n",
       "      <td>154186</td>\n",
       "    </tr>\n",
       "    <tr>\n",
       "      <th>154186</th>\n",
       "      <td>NaN</td>\n",
       "      <td>3</td>\n",
       "      <td>BPD</td>\n",
       "      <td>BPD</td>\n",
       "      <td>Police Department</td>\n",
       "      <td>A99</td>\n",
       "      <td>68523.0</td>\n",
       "      <td>95152.89</td>\n",
       "      <td>1970-01-01</td>\n",
       "      <td>FY2011</td>\n",
       "      <td>154187</td>\n",
       "    </tr>\n",
       "  </tbody>\n",
       "</table>\n",
       "</div>"
      ],
      "text/plain": [
       "       lastName middleInitial firstName jobClass         agencyName agencyID  \\\n",
       "154182      NaN             9       BPD      BPD  Police Department      A99   \n",
       "154183      NaN             0       BPD      BPD  Police Department      A99   \n",
       "154184      NaN             1       BPD      BPD  Police Department      A99   \n",
       "154185      NaN             2       BPD      BPD  Police Department      A99   \n",
       "154186      NaN             3       BPD      BPD  Police Department      A99   \n",
       "\n",
       "        annualSalary  grossPay    hireDate fiscalYear  ObjectId  \n",
       "154182       65499.0  64127.83  1970-01-01     FY2011    154183  \n",
       "154183       63384.0  66187.45  1970-01-01     FY2011    154184  \n",
       "154184       61102.0  71989.51  1970-01-01     FY2011    154185  \n",
       "154185       59958.0  53235.59  1970-01-01     FY2011    154186  \n",
       "154186       68523.0  95152.89  1970-01-01     FY2011    154187  "
      ]
     },
     "execution_count": 30,
     "metadata": {},
     "output_type": "execute_result"
    }
   ],
   "source": [
    "df.tail()"
   ]
  },
  {
   "cell_type": "code",
   "execution_count": 31,
   "metadata": {},
   "outputs": [],
   "source": [
    "newdf=df.copy()"
   ]
  },
  {
   "cell_type": "code",
   "execution_count": 33,
   "metadata": {},
   "outputs": [],
   "source": [
    "newdf.columns=newdf.columns.str.strip().str.lower()"
   ]
  },
  {
   "cell_type": "code",
   "execution_count": 35,
   "metadata": {},
   "outputs": [
    {
     "data": {
      "text/html": [
       "<div>\n",
       "<style scoped>\n",
       "    .dataframe tbody tr th:only-of-type {\n",
       "        vertical-align: middle;\n",
       "    }\n",
       "\n",
       "    .dataframe tbody tr th {\n",
       "        vertical-align: top;\n",
       "    }\n",
       "\n",
       "    .dataframe thead th {\n",
       "        text-align: right;\n",
       "    }\n",
       "</style>\n",
       "<table border=\"1\" class=\"dataframe\">\n",
       "  <thead>\n",
       "    <tr style=\"text-align: right;\">\n",
       "      <th></th>\n",
       "      <th>lastname</th>\n",
       "      <th>middleinitial</th>\n",
       "      <th>firstname</th>\n",
       "      <th>jobclass</th>\n",
       "      <th>agencyname</th>\n",
       "      <th>agencyid</th>\n",
       "      <th>annualsalary</th>\n",
       "      <th>grosspay</th>\n",
       "      <th>hiredate</th>\n",
       "      <th>fiscalyear</th>\n",
       "      <th>objectid</th>\n",
       "    </tr>\n",
       "  </thead>\n",
       "  <tbody>\n",
       "    <tr>\n",
       "      <th>0</th>\n",
       "      <td>Aaron</td>\n",
       "      <td>D</td>\n",
       "      <td>Kareem</td>\n",
       "      <td>UTILITIES INST REPAIR II</td>\n",
       "      <td>Public Works - Water &amp; Waste Water</td>\n",
       "      <td>A50</td>\n",
       "      <td>34115.0</td>\n",
       "      <td>44557.99</td>\n",
       "      <td>2018-08-27</td>\n",
       "      <td>FY2021</td>\n",
       "      <td>1</td>\n",
       "    </tr>\n",
       "    <tr>\n",
       "      <th>1</th>\n",
       "      <td>Aaron</td>\n",
       "      <td>R</td>\n",
       "      <td>Lynda</td>\n",
       "      <td>ELECTION JUDGES REGULAR</td>\n",
       "      <td>D01</td>\n",
       "      <td>D01</td>\n",
       "      <td>0.0</td>\n",
       "      <td>185.00</td>\n",
       "      <td>2020-12-08</td>\n",
       "      <td>FY2021</td>\n",
       "      <td>2</td>\n",
       "    </tr>\n",
       "    <tr>\n",
       "      <th>2</th>\n",
       "      <td>Aaron</td>\n",
       "      <td>G</td>\n",
       "      <td>Patricia</td>\n",
       "      <td>FACILITIES/OFFICE SERVICES II</td>\n",
       "      <td>Mayor's Office of Employment Development</td>\n",
       "      <td>A03</td>\n",
       "      <td>63457.0</td>\n",
       "      <td>29461.96</td>\n",
       "      <td>1979-10-24</td>\n",
       "      <td>FY2021</td>\n",
       "      <td>3</td>\n",
       "    </tr>\n",
       "    <tr>\n",
       "      <th>3</th>\n",
       "      <td>Abadir</td>\n",
       "      <td>O</td>\n",
       "      <td>Adam</td>\n",
       "      <td>OPERATIONS OFFICER II</td>\n",
       "      <td>Health Department</td>\n",
       "      <td>A65</td>\n",
       "      <td>74299.0</td>\n",
       "      <td>85450.35</td>\n",
       "      <td>2016-12-12</td>\n",
       "      <td>FY2021</td>\n",
       "      <td>4</td>\n",
       "    </tr>\n",
       "    <tr>\n",
       "      <th>4</th>\n",
       "      <td>Abaku</td>\n",
       "      <td>O</td>\n",
       "      <td>Aigbolosimuan</td>\n",
       "      <td>POLICE OFFICER EID</td>\n",
       "      <td>Police Department</td>\n",
       "      <td>A99</td>\n",
       "      <td>68226.0</td>\n",
       "      <td>102775.97</td>\n",
       "      <td>2018-04-17</td>\n",
       "      <td>FY2021</td>\n",
       "      <td>5</td>\n",
       "    </tr>\n",
       "  </tbody>\n",
       "</table>\n",
       "</div>"
      ],
      "text/plain": [
       "  lastname middleinitial      firstname                       jobclass  \\\n",
       "0    Aaron             D         Kareem       UTILITIES INST REPAIR II   \n",
       "1    Aaron             R          Lynda        ELECTION JUDGES REGULAR   \n",
       "2    Aaron             G       Patricia  FACILITIES/OFFICE SERVICES II   \n",
       "3   Abadir             O           Adam          OPERATIONS OFFICER II   \n",
       "4    Abaku             O  Aigbolosimuan             POLICE OFFICER EID   \n",
       "\n",
       "                                 agencyname agencyid  annualsalary   grosspay  \\\n",
       "0        Public Works - Water & Waste Water      A50       34115.0   44557.99   \n",
       "1                                       D01      D01           0.0     185.00   \n",
       "2  Mayor's Office of Employment Development      A03       63457.0   29461.96   \n",
       "3                         Health Department      A65       74299.0   85450.35   \n",
       "4                         Police Department      A99       68226.0  102775.97   \n",
       "\n",
       "     hiredate fiscalyear  objectid  \n",
       "0  2018-08-27     FY2021         1  \n",
       "1  2020-12-08     FY2021         2  \n",
       "2  1979-10-24     FY2021         3  \n",
       "3  2016-12-12     FY2021         4  \n",
       "4  2018-04-17     FY2021         5  "
      ]
     },
     "execution_count": 35,
     "metadata": {},
     "output_type": "execute_result"
    }
   ],
   "source": [
    "newdf.head()"
   ]
  },
  {
   "cell_type": "code",
   "execution_count": 42,
   "metadata": {},
   "outputs": [
    {
     "data": {
      "text/plain": [
       "lastname           410\n",
       "middleinitial    32992\n",
       "firstname            0\n",
       "jobclass           184\n",
       "agencyname           0\n",
       "agencyid             0\n",
       "annualsalary         0\n",
       "grosspay             0\n",
       "hiredate             2\n",
       "fiscalyear           0\n",
       "objectid             0\n",
       "dtype: int64"
      ]
     },
     "execution_count": 42,
     "metadata": {},
     "output_type": "execute_result"
    }
   ],
   "source": [
    "newdf.isnull().sum()"
   ]
  },
  {
   "cell_type": "code",
   "execution_count": 44,
   "metadata": {},
   "outputs": [],
   "source": [
    "newdf.drop('grosspay',axis=1,inplace=True)"
   ]
  },
  {
   "cell_type": "code",
   "execution_count": 46,
   "metadata": {},
   "outputs": [
    {
     "data": {
      "text/plain": [
       "Index(['lastname', 'middleinitial', 'firstname', 'jobclass', 'agencyname',\n",
       "       'agencyid', 'annualsalary', 'hiredate', 'fiscalyear', 'objectid'],\n",
       "      dtype='object')"
      ]
     },
     "execution_count": 46,
     "metadata": {},
     "output_type": "execute_result"
    }
   ],
   "source": [
    "newdf.columns"
   ]
  },
  {
   "cell_type": "markdown",
   "metadata": {},
   "source": [
    "* Duplicated of the Agency Id"
   ]
  },
  {
   "cell_type": "code",
   "execution_count": 52,
   "metadata": {},
   "outputs": [
    {
     "data": {
      "text/plain": [
       "A99    34706\n",
       "A64    18374\n",
       "A50    16353\n",
       "A65     9640\n",
       "A49     7007\n",
       "       ...  \n",
       "A28        3\n",
       "P65        3\n",
       "A53        2\n",
       "U01        1\n",
       "A9         1\n",
       "Name: agencyid, Length: 71, dtype: int64"
      ]
     },
     "execution_count": 52,
     "metadata": {},
     "output_type": "execute_result"
    }
   ],
   "source": [
    "newdf.agencyid.value_counts()"
   ]
  },
  {
   "cell_type": "code",
   "execution_count": 56,
   "metadata": {},
   "outputs": [
    {
     "data": {
      "text/plain": [
       "A99                   State's Attorney's Office\n",
       "A64                                         D01\n",
       "A50                           Health Department\n",
       "A65                                       MOCFS\n",
       "A49                             Fire Department\n",
       "                         ...                   \n",
       "A28                           Health Department\n",
       "P65                           Health Department\n",
       "A53    Mayor's Office of Employment Development\n",
       "U01                                         D01\n",
       "A9                                          D01\n",
       "Name: agencyid, Length: 71, dtype: object"
      ]
     },
     "execution_count": 56,
     "metadata": {},
     "output_type": "execute_result"
    }
   ],
   "source": [
    "newdf.agencyid.value_counts().map(newdf.agencyname)"
   ]
  },
  {
   "cell_type": "code",
   "execution_count": 62,
   "metadata": {},
   "outputs": [
    {
     "data": {
      "text/plain": [
       "POLICE OFFICER                    18958\n",
       "CROSSING GUARD                     3546\n",
       "LABORER (HOURLY)                   3388\n",
       "EMT FIREFIGHTER SUPPRESSION        2876\n",
       "COMMUNITY AIDE                     2865\n",
       "                                  ...  \n",
       "QUALITY ASSURANCE ANALYST SUPE        1\n",
       "FIRE LT. INVES & PRE SERV, ALS        1\n",
       "CUSTOMER CARE ANALYST SUP II          1\n",
       "SPECIAL ASSIST. TO THE STATE'S        1\n",
       "COURT REPORTER                        1\n",
       "Name: jobclass, Length: 1897, dtype: int64"
      ]
     },
     "execution_count": 62,
     "metadata": {},
     "output_type": "execute_result"
    }
   ],
   "source": [
    "newdf.jobclass.value_counts()"
   ]
  },
  {
   "cell_type": "code",
   "execution_count": 63,
   "metadata": {},
   "outputs": [
    {
     "data": {
      "text/plain": [
       "0.0        1958\n",
       "20800.0    1447\n",
       "24960.0    1212\n",
       "22880.0    1030\n",
       "15080.0     847\n",
       "           ... \n",
       "89126.0       1\n",
       "84708.0       1\n",
       "82895.0       1\n",
       "58337.0       1\n",
       "48006.0       1\n",
       "Name: annualsalary, Length: 13321, dtype: int64"
      ]
     },
     "execution_count": 63,
     "metadata": {},
     "output_type": "execute_result"
    }
   ],
   "source": [
    "newdf.annualsalary.value_counts()"
   ]
  },
  {
   "cell_type": "code",
   "execution_count": 66,
   "metadata": {},
   "outputs": [
    {
     "data": {
      "text/plain": [
       "0         34115\n",
       "1             0\n",
       "2         63457\n",
       "3         74299\n",
       "4         68226\n",
       "          ...  \n",
       "154182    65499\n",
       "154183    63384\n",
       "154184    61102\n",
       "154185    59958\n",
       "154186    68523\n",
       "Name: annualsalary, Length: 154187, dtype: int32"
      ]
     },
     "execution_count": 66,
     "metadata": {},
     "output_type": "execute_result"
    }
   ],
   "source": [
    "newdf.annualsalary.astype(int)"
   ]
  },
  {
   "cell_type": "code",
   "execution_count": 67,
   "metadata": {},
   "outputs": [
    {
     "name": "stdout",
     "output_type": "stream",
     "text": [
      "<class 'pandas.core.frame.DataFrame'>\n",
      "RangeIndex: 154187 entries, 0 to 154186\n",
      "Data columns (total 10 columns):\n",
      " #   Column         Non-Null Count   Dtype  \n",
      "---  ------         --------------   -----  \n",
      " 0   lastname       153777 non-null  object \n",
      " 1   middleinitial  121195 non-null  object \n",
      " 2   firstname      154187 non-null  object \n",
      " 3   jobclass       154003 non-null  object \n",
      " 4   agencyname     154187 non-null  object \n",
      " 5   agencyid       154187 non-null  object \n",
      " 6   annualsalary   154187 non-null  float64\n",
      " 7   hiredate       154185 non-null  object \n",
      " 8   fiscalyear     154187 non-null  object \n",
      " 9   objectid       154187 non-null  int64  \n",
      "dtypes: float64(1), int64(1), object(8)\n",
      "memory usage: 11.8+ MB\n"
     ]
    }
   ],
   "source": [
    "newdf.info()"
   ]
  },
  {
   "cell_type": "code",
   "execution_count": 68,
   "metadata": {},
   "outputs": [
    {
     "data": {
      "text/html": [
       "<div>\n",
       "<style scoped>\n",
       "    .dataframe tbody tr th:only-of-type {\n",
       "        vertical-align: middle;\n",
       "    }\n",
       "\n",
       "    .dataframe tbody tr th {\n",
       "        vertical-align: top;\n",
       "    }\n",
       "\n",
       "    .dataframe thead th {\n",
       "        text-align: right;\n",
       "    }\n",
       "</style>\n",
       "<table border=\"1\" class=\"dataframe\">\n",
       "  <thead>\n",
       "    <tr style=\"text-align: right;\">\n",
       "      <th></th>\n",
       "      <th>lastname</th>\n",
       "      <th>middleinitial</th>\n",
       "      <th>firstname</th>\n",
       "      <th>jobclass</th>\n",
       "      <th>agencyname</th>\n",
       "      <th>agencyid</th>\n",
       "      <th>annualsalary</th>\n",
       "      <th>hiredate</th>\n",
       "      <th>fiscalyear</th>\n",
       "      <th>objectid</th>\n",
       "    </tr>\n",
       "  </thead>\n",
       "  <tbody>\n",
       "    <tr>\n",
       "      <th>0</th>\n",
       "      <td>Aaron</td>\n",
       "      <td>D</td>\n",
       "      <td>Kareem</td>\n",
       "      <td>UTILITIES INST REPAIR II</td>\n",
       "      <td>Public Works - Water &amp; Waste Water</td>\n",
       "      <td>A50</td>\n",
       "      <td>34115.0</td>\n",
       "      <td>2018-08-27</td>\n",
       "      <td>FY2021</td>\n",
       "      <td>1</td>\n",
       "    </tr>\n",
       "    <tr>\n",
       "      <th>1</th>\n",
       "      <td>Aaron</td>\n",
       "      <td>R</td>\n",
       "      <td>Lynda</td>\n",
       "      <td>ELECTION JUDGES REGULAR</td>\n",
       "      <td>D01</td>\n",
       "      <td>D01</td>\n",
       "      <td>0.0</td>\n",
       "      <td>2020-12-08</td>\n",
       "      <td>FY2021</td>\n",
       "      <td>2</td>\n",
       "    </tr>\n",
       "    <tr>\n",
       "      <th>2</th>\n",
       "      <td>Aaron</td>\n",
       "      <td>G</td>\n",
       "      <td>Patricia</td>\n",
       "      <td>FACILITIES/OFFICE SERVICES II</td>\n",
       "      <td>Mayor's Office of Employment Development</td>\n",
       "      <td>A03</td>\n",
       "      <td>63457.0</td>\n",
       "      <td>1979-10-24</td>\n",
       "      <td>FY2021</td>\n",
       "      <td>3</td>\n",
       "    </tr>\n",
       "    <tr>\n",
       "      <th>3</th>\n",
       "      <td>Abadir</td>\n",
       "      <td>O</td>\n",
       "      <td>Adam</td>\n",
       "      <td>OPERATIONS OFFICER II</td>\n",
       "      <td>Health Department</td>\n",
       "      <td>A65</td>\n",
       "      <td>74299.0</td>\n",
       "      <td>2016-12-12</td>\n",
       "      <td>FY2021</td>\n",
       "      <td>4</td>\n",
       "    </tr>\n",
       "    <tr>\n",
       "      <th>4</th>\n",
       "      <td>Abaku</td>\n",
       "      <td>O</td>\n",
       "      <td>Aigbolosimuan</td>\n",
       "      <td>POLICE OFFICER EID</td>\n",
       "      <td>Police Department</td>\n",
       "      <td>A99</td>\n",
       "      <td>68226.0</td>\n",
       "      <td>2018-04-17</td>\n",
       "      <td>FY2021</td>\n",
       "      <td>5</td>\n",
       "    </tr>\n",
       "  </tbody>\n",
       "</table>\n",
       "</div>"
      ],
      "text/plain": [
       "  lastname middleinitial      firstname                       jobclass  \\\n",
       "0    Aaron             D         Kareem       UTILITIES INST REPAIR II   \n",
       "1    Aaron             R          Lynda        ELECTION JUDGES REGULAR   \n",
       "2    Aaron             G       Patricia  FACILITIES/OFFICE SERVICES II   \n",
       "3   Abadir             O           Adam          OPERATIONS OFFICER II   \n",
       "4    Abaku             O  Aigbolosimuan             POLICE OFFICER EID   \n",
       "\n",
       "                                 agencyname agencyid  annualsalary  \\\n",
       "0        Public Works - Water & Waste Water      A50       34115.0   \n",
       "1                                       D01      D01           0.0   \n",
       "2  Mayor's Office of Employment Development      A03       63457.0   \n",
       "3                         Health Department      A65       74299.0   \n",
       "4                         Police Department      A99       68226.0   \n",
       "\n",
       "     hiredate fiscalyear  objectid  \n",
       "0  2018-08-27     FY2021         1  \n",
       "1  2020-12-08     FY2021         2  \n",
       "2  1979-10-24     FY2021         3  \n",
       "3  2016-12-12     FY2021         4  \n",
       "4  2018-04-17     FY2021         5  "
      ]
     },
     "execution_count": 68,
     "metadata": {},
     "output_type": "execute_result"
    }
   ],
   "source": [
    "newdf.head()"
   ]
  },
  {
   "cell_type": "code",
   "execution_count": 69,
   "metadata": {},
   "outputs": [
    {
     "data": {
      "text/plain": [
       "'2018-08-27'"
      ]
     },
     "execution_count": 69,
     "metadata": {},
     "output_type": "execute_result"
    }
   ],
   "source": [
    "newdf.hiredate[0]"
   ]
  },
  {
   "cell_type": "code",
   "execution_count": 76,
   "metadata": {},
   "outputs": [
    {
     "data": {
      "text/plain": [
       "'27'"
      ]
     },
     "execution_count": 76,
     "metadata": {},
     "output_type": "execute_result"
    }
   ],
   "source": [
    "date_clean=re.sub(\"^\\d{4}.*-\",\"\",newdf.hiredate[0])\n",
    "date_clean"
   ]
  },
  {
   "cell_type": "code",
   "execution_count": 80,
   "metadata": {},
   "outputs": [
    {
     "data": {
      "text/plain": [
       "'08'"
      ]
     },
     "execution_count": 80,
     "metadata": {},
     "output_type": "execute_result"
    }
   ],
   "source": [
    "month_clean=re.sub(\"^\\d{4}-|-\\d{2}\",\"\",newdf.hiredate[0])\n",
    "month_clean"
   ]
  },
  {
   "cell_type": "code",
   "execution_count": 82,
   "metadata": {},
   "outputs": [
    {
     "data": {
      "text/plain": [
       "'2018'"
      ]
     },
     "execution_count": 82,
     "metadata": {},
     "output_type": "execute_result"
    }
   ],
   "source": [
    "year_clean=re.sub(\"-\\d{2}.*\",\"\",newdf.hiredate[0])\n",
    "year_clean"
   ]
  },
  {
   "cell_type": "code",
   "execution_count": 84,
   "metadata": {},
   "outputs": [
    {
     "data": {
      "text/plain": [
       "154187"
      ]
     },
     "execution_count": 84,
     "metadata": {},
     "output_type": "execute_result"
    }
   ],
   "source": [
    "newdf.shape[0]"
   ]
  },
  {
   "cell_type": "code",
   "execution_count": 86,
   "metadata": {},
   "outputs": [],
   "source": [
    "newdff=newdf.copy()"
   ]
  },
  {
   "cell_type": "code",
   "execution_count": null,
   "metadata": {},
   "outputs": [],
   "source": [
    "# for i in range(len(newdff)):\n",
    "for i in range(154187):\n",
    "    newdff['hiredate'][i]=re.sub(\"^\\d{4}.*-\",\"\",newdf.hiredate[i])\n",
    "    newdff['hiremonth'][i]=re.sub(\"^\\d{4}-|-\\d{2}\",\"\",newdf.hiredate[i])\n",
    "    newdff['hireyear'][i]=re.sub(\"-\\d{2}.*\",\"\",newdf.hiredate[i])\n",
    "    "
   ]
  },
  {
   "cell_type": "code",
   "execution_count": 113,
   "metadata": {},
   "outputs": [
    {
     "data": {
      "image/png": "[encoded data removed]",
      "text/plain": [
       "<Figure size 640x480 with 1 Axes>"
      ]
     },
     "metadata": {},
     "output_type": "display_data"
    }
   ],
   "source": [
    "newdf.annualsalary.plot.box()\n",
    "plt.grid()"
   ]
  },
  {
   "cell_type": "code",
   "execution_count": null,
   "metadata": {},
   "outputs": [],
   "source": []
  }
 ],
 "metadata": {
  "kernelspec": {
   "display_name": "Python 3.10.6 64-bit (windows store)",
   "language": "python",
   "name": "python3"
  },
  "language_info": {
   "codemirror_mode": {
    "name": "ipython",
    "version": 3
   },
   "file_extension": ".py",
   "mimetype": "text/x-python",
   "name": "python",
   "nbconvert_exporter": "python",
   "pygments_lexer": "ipython3",
   "version": "3.10.6"
  },
  "orig_nbformat": 4,
  "vscode": {
   "interpreter": {
    "hash": "a08f583acb35847448b52a9eb69292a61cb88f49696fc3f852078c09d98ba127"
   }
  }
 },
 "nbformat": 4,
 "nbformat_minor": 2
}
